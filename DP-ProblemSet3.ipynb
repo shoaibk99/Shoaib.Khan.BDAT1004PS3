{
 "cells": [
  {
   "cell_type": "markdown",
   "id": "44b2e5ed-d09b-4f71-a177-b0719ec235b8",
   "metadata": {},
   "source": [
    "# Question 1"
   ]
  },
  {
   "cell_type": "code",
   "execution_count": 2,
   "id": "a6fe4d83-66c0-4944-8d5a-b10a98ad7939",
   "metadata": {
    "tags": []
   },
   "outputs": [],
   "source": [
    "import pandas as pd"
   ]
  },
  {
   "cell_type": "code",
   "execution_count": 3,
   "id": "2d57c004-1638-4d10-aed4-4a17d1577cd2",
   "metadata": {
    "tags": []
   },
   "outputs": [],
   "source": [
    "URL = \"https://raw.githubusercontent.com/justmarkham/DAT8/master/data/u.user\"\n",
    "users = pd.read_csv(URL, sep='|')"
   ]
  },
  {
   "cell_type": "code",
   "execution_count": 7,
   "id": "02a482ad-1f16-4375-978f-d8b2c5034331",
   "metadata": {
    "tags": []
   },
   "outputs": [
    {
     "name": "stdout",
     "output_type": "stream",
     "text": [
      "Mean age for each occupation is :  occupation\n",
      "administrator    38.746835\n",
      "artist           31.392857\n",
      "doctor           43.571429\n",
      "educator         42.010526\n",
      "engineer         36.388060\n",
      "entertainment    29.222222\n",
      "executive        38.718750\n",
      "healthcare       41.562500\n",
      "homemaker        32.571429\n",
      "lawyer           36.750000\n",
      "librarian        40.000000\n",
      "marketing        37.615385\n",
      "none             26.555556\n",
      "other            34.523810\n",
      "programmer       33.121212\n",
      "retired          63.071429\n",
      "salesman         35.666667\n",
      "scientist        35.548387\n",
      "student          22.081633\n",
      "technician       33.148148\n",
      "writer           36.311111\n",
      "Name: age, dtype: float64\n"
     ]
    }
   ],
   "source": [
    "mean_age_per_occ = users.groupby('occupation')['age'].mean()\n",
    "print(\"Mean age for each occupation is : \" , mean_age_per_occ)"
   ]
  },
  {
   "cell_type": "code",
   "execution_count": 8,
   "id": "71f0c2a4-d336-4e03-b7e2-a99ffdbe38cf",
   "metadata": {
    "tags": []
   },
   "outputs": [
    {
     "name": "stdout",
     "output_type": "stream",
     "text": [
      "Occupation wise Male ratio is :  occupation\n",
      "administrator    0.544304\n",
      "artist           0.535714\n",
      "doctor           1.000000\n",
      "educator         0.726316\n",
      "engineer         0.970149\n",
      "entertainment    0.888889\n",
      "executive        0.906250\n",
      "healthcare       0.312500\n",
      "homemaker        0.142857\n",
      "lawyer           0.833333\n",
      "librarian        0.431373\n",
      "marketing        0.615385\n",
      "none             0.555556\n",
      "other            0.657143\n",
      "programmer       0.909091\n",
      "retired          0.928571\n",
      "salesman         0.750000\n",
      "scientist        0.903226\n",
      "student          0.693878\n",
      "technician       0.962963\n",
      "writer           0.577778\n",
      "Name: gender, dtype: float64\n"
     ]
    }
   ],
   "source": [
    "male_ratio_per_occ = users.groupby('occupation')['gender'].apply(lambda male: (male == 'M').sum() / male.count())\n",
    "male_ratio_per_occ.sort_values(ascending=False)\n",
    "print(\"Occupation wise Male ratio is : \", male_ratio_per_occ)"
   ]
  },
  {
   "cell_type": "code",
   "execution_count": 9,
   "id": "3b304c94-c832-4e82-87c4-f60577c55a3c",
   "metadata": {
    "tags": []
   },
   "outputs": [
    {
     "name": "stdout",
     "output_type": "stream",
     "text": [
      "Occupation wise minimum and Maximum age: \n",
      "               min  max\n",
      "occupation             \n",
      "administrator   21   70\n",
      "artist          19   48\n",
      "doctor          28   64\n",
      "educator        23   63\n",
      "engineer        22   70\n",
      "entertainment   15   50\n",
      "executive       22   69\n",
      "healthcare      22   62\n",
      "homemaker       20   50\n",
      "lawyer          21   53\n",
      "librarian       23   69\n",
      "marketing       24   55\n",
      "none            11   55\n",
      "other           13   64\n",
      "programmer      20   63\n",
      "retired         51   73\n",
      "salesman        18   66\n",
      "scientist       23   55\n",
      "student          7   42\n",
      "technician      21   55\n",
      "writer          18   60\n"
     ]
    }
   ],
   "source": [
    "minimum_maximum_age_per_occ = users.groupby('occupation')['age'].agg(['min', 'max'])\n",
    "print(\"Occupation wise minimum and Maximum age: \")\n",
    "print(minimum_maximum_age_per_occ)"
   ]
  },
  {
   "cell_type": "code",
   "execution_count": 10,
   "id": "5a42bbe9-a8d3-41d8-a1c8-5352df537eec",
   "metadata": {
    "tags": []
   },
   "outputs": [
    {
     "name": "stdout",
     "output_type": "stream",
     "text": [
      "Mean age by Occupation and Gender\n",
      "occupation     gender\n",
      "administrator  F         40.638889\n",
      "               M         37.162791\n",
      "artist         F         30.307692\n",
      "               M         32.333333\n",
      "doctor         M         43.571429\n",
      "educator       F         39.115385\n",
      "               M         43.101449\n",
      "engineer       F         29.500000\n",
      "               M         36.600000\n",
      "entertainment  F         31.000000\n",
      "               M         29.000000\n",
      "executive      F         44.000000\n",
      "               M         38.172414\n",
      "healthcare     F         39.818182\n",
      "               M         45.400000\n",
      "homemaker      F         34.166667\n",
      "               M         23.000000\n",
      "lawyer         F         39.500000\n",
      "               M         36.200000\n",
      "librarian      F         40.000000\n",
      "               M         40.000000\n",
      "marketing      F         37.200000\n",
      "               M         37.875000\n",
      "none           F         36.500000\n",
      "               M         18.600000\n",
      "other          F         35.472222\n",
      "               M         34.028986\n",
      "programmer     F         32.166667\n",
      "               M         33.216667\n",
      "retired        F         70.000000\n",
      "               M         62.538462\n",
      "salesman       F         27.000000\n",
      "               M         38.555556\n",
      "scientist      F         28.333333\n",
      "               M         36.321429\n",
      "student        F         20.750000\n",
      "               M         22.669118\n",
      "technician     F         38.000000\n",
      "               M         32.961538\n",
      "writer         F         37.631579\n",
      "               M         35.346154\n",
      "Name: age, dtype: float64\n"
     ]
    }
   ],
   "source": [
    "mean_age_per_occ_by_gender = users.groupby(['occupation', 'gender'])['age'].mean()\n",
    "print(\"Mean age by Occupation and Gender\")\n",
    "print(mean_age_per_occ_by_gender)"
   ]
  },
  {
   "cell_type": "code",
   "execution_count": 11,
   "id": "25c8eda7-3992-4688-91a9-f7815ff88529",
   "metadata": {
    "tags": []
   },
   "outputs": [
    {
     "name": "stdout",
     "output_type": "stream",
     "text": [
      "Occupation and Gender wise percentage of male and female\n",
      "occupation     gender\n",
      "administrator  F         0.455696\n",
      "               M         0.544304\n",
      "artist         F         0.464286\n",
      "               M         0.535714\n",
      "doctor         M         1.000000\n",
      "educator       F         0.273684\n",
      "               M         0.726316\n",
      "engineer       F         0.029851\n",
      "               M         0.970149\n",
      "entertainment  F         0.111111\n",
      "               M         0.888889\n",
      "executive      F         0.093750\n",
      "               M         0.906250\n",
      "healthcare     F         0.687500\n",
      "               M         0.312500\n",
      "homemaker      F         0.857143\n",
      "               M         0.142857\n",
      "lawyer         F         0.166667\n",
      "               M         0.833333\n",
      "librarian      F         0.568627\n",
      "               M         0.431373\n",
      "marketing      F         0.384615\n",
      "               M         0.615385\n",
      "none           F         0.444444\n",
      "               M         0.555556\n",
      "other          F         0.342857\n",
      "               M         0.657143\n",
      "programmer     F         0.090909\n",
      "               M         0.909091\n",
      "retired        F         0.071429\n",
      "               M         0.928571\n",
      "salesman       F         0.250000\n",
      "               M         0.750000\n",
      "scientist      F         0.096774\n",
      "               M         0.903226\n",
      "student        F         0.306122\n",
      "               M         0.693878\n",
      "technician     F         0.037037\n",
      "               M         0.962963\n",
      "writer         F         0.422222\n",
      "               M         0.577778\n",
      "dtype: float64\n"
     ]
    }
   ],
   "source": [
    "gender_percentage_per_occ = users.groupby(['occupation', 'gender']).size() / users.groupby('occupation').size()\n",
    "print(\"Occupation and Gender wise percentage of male and female\")\n",
    "print(gender_percentage_per_occ)"
   ]
  },
  {
   "cell_type": "markdown",
   "id": "17cff047-3eee-4c25-9186-1562c1ce0710",
   "metadata": {},
   "source": [
    "# Question 2"
   ]
  },
  {
   "cell_type": "code",
   "execution_count": 13,
   "id": "8603ddf2-9d07-4dfb-8d52-ee481dd9c34a",
   "metadata": {
    "tags": []
   },
   "outputs": [
    {
     "name": "stdout",
     "output_type": "stream",
     "text": [
      "Index(['Team', 'Goals', 'Shots on target', 'Shots off target',\n",
      "       'Shooting Accuracy', '% Goals-to-shots', 'Total shots (inc. Blocked)',\n",
      "       'Hit Woodwork', 'Penalty goals', 'Penalties not scored', 'Headed goals',\n",
      "       'Passes', 'Passes completed', 'Passing Accuracy', 'Touches', 'Crosses',\n",
      "       'Dribbles', 'Corners Taken', 'Tackles', 'Clearances', 'Interceptions',\n",
      "       'Clearances off line', 'Clean Sheets', 'Blocks', 'Goals conceded',\n",
      "       'Saves made', 'Saves-to-shots ratio', 'Fouls Won', 'Fouls Conceded',\n",
      "       'Offsides', 'Yellow Cards', 'Red Cards', 'Subs on', 'Subs off',\n",
      "       'Players Used'],\n",
      "      dtype='object')\n"
     ]
    }
   ],
   "source": [
    "URL = \"https://raw.githubusercontent.com/guipsamora/pandas_exercises/master/02_Filtering_%26_Sorting/Euro12/Euro_2012_stats_TEAM.csv\"\n",
    "euro12 = pd.read_csv(URL, sep=',')\n",
    "print(euro12.columns)"
   ]
  },
  {
   "cell_type": "code",
   "execution_count": 15,
   "id": "0c532e24-b015-49b2-9830-baf7378667b2",
   "metadata": {
    "tags": []
   },
   "outputs": [
    {
     "name": "stdout",
     "output_type": "stream",
     "text": [
      "0      4\n",
      "1      4\n",
      "2      4\n",
      "3      5\n",
      "4      3\n",
      "5     10\n",
      "6      5\n",
      "7      6\n",
      "8      2\n",
      "9      2\n",
      "10     6\n",
      "11     1\n",
      "12     5\n",
      "13    12\n",
      "14     5\n",
      "15     2\n",
      "Name: Goals, dtype: int64\n"
     ]
    }
   ],
   "source": [
    "goal = euro12['Goals']\n",
    "print(goal)"
   ]
  },
  {
   "cell_type": "code",
   "execution_count": 16,
   "id": "01b3073e-df24-430d-999a-be1354a30e01",
   "metadata": {
    "tags": []
   },
   "outputs": [
    {
     "name": "stdout",
     "output_type": "stream",
     "text": [
      "Number of unique teams in Euro12 :  16\n"
     ]
    }
   ],
   "source": [
    "unique_teams = euro12['Team'].nunique()\n",
    "print(\"Number of unique teams in Euro12 : \", unique_teams)"
   ]
  },
  {
   "cell_type": "code",
   "execution_count": 17,
   "id": "c91d012f-f07b-46f9-9c93-bb93f739701b",
   "metadata": {
    "tags": []
   },
   "outputs": [
    {
     "name": "stdout",
     "output_type": "stream",
     "text": [
      "Number of columns in the dataset is:  35\n"
     ]
    }
   ],
   "source": [
    "num_of_cols = euro12.shape[1]\n",
    "print(\"Number of columns in the dataset is: \", num_of_cols)"
   ]
  },
  {
   "cell_type": "code",
   "execution_count": 19,
   "id": "bb574bce-afa7-439a-ae7c-de1431361098",
   "metadata": {
    "tags": []
   },
   "outputs": [
    {
     "name": "stdout",
     "output_type": "stream",
     "text": [
      "                   Team  Yellow Cards  Red Cards\n",
      "0               Croatia             9          0\n",
      "1        Czech Republic             7          0\n",
      "2               Denmark             4          0\n",
      "3               England             5          0\n",
      "4                France             6          0\n",
      "5               Germany             4          0\n",
      "6                Greece             9          1\n",
      "7                 Italy            16          0\n",
      "8           Netherlands             5          0\n",
      "9                Poland             7          1\n",
      "10             Portugal            12          0\n",
      "11  Republic of Ireland             6          1\n",
      "12               Russia             6          0\n",
      "13                Spain            11          0\n",
      "14               Sweden             7          0\n",
      "15              Ukraine             5          0\n"
     ]
    }
   ],
   "source": [
    "discipline = euro12[['Team', 'Yellow Cards', 'Red Cards']]\n",
    "print(discipline)"
   ]
  },
  {
   "cell_type": "code",
   "execution_count": 20,
   "id": "a4b865a6-25e9-460b-8a6f-2d639e20bdba",
   "metadata": {
    "tags": []
   },
   "outputs": [
    {
     "name": "stdout",
     "output_type": "stream",
     "text": [
      "                   Team  Yellow Cards  Red Cards\n",
      "2               Denmark             4          0\n",
      "5               Germany             4          0\n",
      "3               England             5          0\n",
      "8           Netherlands             5          0\n",
      "15              Ukraine             5          0\n",
      "4                France             6          0\n",
      "12               Russia             6          0\n",
      "1        Czech Republic             7          0\n",
      "14               Sweden             7          0\n",
      "0               Croatia             9          0\n",
      "13                Spain            11          0\n",
      "10             Portugal            12          0\n",
      "7                 Italy            16          0\n",
      "11  Republic of Ireland             6          1\n",
      "9                Poland             7          1\n",
      "6                Greece             9          1\n"
     ]
    }
   ],
   "source": [
    "sorted_by_cards = discipline.sort_values(['Red Cards', 'Yellow Cards'])\n",
    "print(sorted_by_cards)"
   ]
  },
  {
   "cell_type": "code",
   "execution_count": 21,
   "id": "c5dc58ec-c119-4200-9aaf-7b4a06944a00",
   "metadata": {
    "tags": []
   },
   "outputs": [
    {
     "name": "stdout",
     "output_type": "stream",
     "text": [
      "Mean Yellow cards given per team is :  7.4375\n"
     ]
    }
   ],
   "source": [
    "mean_yellow_card_per_team = euro12['Yellow Cards'].mean()\n",
    "print(\"Mean Yellow cards given per team is : \", mean_yellow_card_per_team)"
   ]
  },
  {
   "cell_type": "code",
   "execution_count": 22,
   "id": "59c296ef-8b4a-4146-8af5-fda3ee13c4c4",
   "metadata": {},
   "outputs": [
    {
     "name": "stdout",
     "output_type": "stream",
     "text": [
      "Teams who scored more than six goals: \n",
      "  5     Germany\n",
      "13      Spain\n",
      "Name: Team, dtype: object\n"
     ]
    }
   ],
   "source": [
    "teams_greater_6_goals = euro12.loc[euro12['Goals'] > 6, 'Team']\n",
    "print(\"Teams who scored more than six goals: \\n \", teams_greater_6_goals)"
   ]
  },
  {
   "cell_type": "code",
   "execution_count": 23,
   "id": "aabf8eef-e15e-4794-94d5-9e2cc2805784",
   "metadata": {
    "tags": []
   },
   "outputs": [
    {
     "name": "stdout",
     "output_type": "stream",
     "text": [
      "Teams starting with G:\n",
      "  5    Germany\n",
      "6     Greece\n",
      "Name: Team, dtype: object\n"
     ]
    }
   ],
   "source": [
    "teams_starting_g = euro12.loc[euro12['Team'].str.startswith('G'), 'Team']\n",
    "print(\"Teams starting with G:\\n \", teams_starting_g)"
   ]
  },
  {
   "cell_type": "code",
   "execution_count": 24,
   "id": "6ad369a2-16f1-4cc7-bc2c-5cef731b737b",
   "metadata": {
    "tags": []
   },
   "outputs": [
    {
     "name": "stdout",
     "output_type": "stream",
     "text": [
      "First 7 columns are:\n",
      "                    Team  Goals  Shots on target  Shots off target  \\\n",
      "0               Croatia      4               13                12   \n",
      "1        Czech Republic      4               13                18   \n",
      "2               Denmark      4               10                10   \n",
      "3               England      5               11                18   \n",
      "4                France      3               22                24   \n",
      "5               Germany     10               32                32   \n",
      "6                Greece      5                8                18   \n",
      "7                 Italy      6               34                45   \n",
      "8           Netherlands      2               12                36   \n",
      "9                Poland      2               15                23   \n",
      "10             Portugal      6               22                42   \n",
      "11  Republic of Ireland      1                7                12   \n",
      "12               Russia      5                9                31   \n",
      "13                Spain     12               42                33   \n",
      "14               Sweden      5               17                19   \n",
      "15              Ukraine      2                7                26   \n",
      "\n",
      "   Shooting Accuracy % Goals-to-shots  Total shots (inc. Blocked)  \n",
      "0              51.9%            16.0%                          32  \n",
      "1              41.9%            12.9%                          39  \n",
      "2              50.0%            20.0%                          27  \n",
      "3              50.0%            17.2%                          40  \n",
      "4              37.9%             6.5%                          65  \n",
      "5              47.8%            15.6%                          80  \n",
      "6              30.7%            19.2%                          32  \n",
      "7              43.0%             7.5%                         110  \n",
      "8              25.0%             4.1%                          60  \n",
      "9              39.4%             5.2%                          48  \n",
      "10             34.3%             9.3%                          82  \n",
      "11             36.8%             5.2%                          28  \n",
      "12             22.5%            12.5%                          59  \n",
      "13             55.9%            16.0%                         100  \n",
      "14             47.2%            13.8%                          39  \n",
      "15             21.2%             6.0%                          38  \n"
     ]
    }
   ],
   "source": [
    "seven_columns = euro12.iloc[:, :7]\n",
    "print(\"First 7 columns are:\\n\", seven_columns)"
   ]
  },
  {
   "cell_type": "code",
   "execution_count": 25,
   "id": "1e5099a2-11e7-4e97-96fc-6b18f95e682f",
   "metadata": {
    "tags": []
   },
   "outputs": [
    {
     "name": "stdout",
     "output_type": "stream",
     "text": [
      "                   Team  Goals  Shots on target  Shots off target  \\\n",
      "0               Croatia      4               13                12   \n",
      "1        Czech Republic      4               13                18   \n",
      "2               Denmark      4               10                10   \n",
      "3               England      5               11                18   \n",
      "4                France      3               22                24   \n",
      "5               Germany     10               32                32   \n",
      "6                Greece      5                8                18   \n",
      "7                 Italy      6               34                45   \n",
      "8           Netherlands      2               12                36   \n",
      "9                Poland      2               15                23   \n",
      "10             Portugal      6               22                42   \n",
      "11  Republic of Ireland      1                7                12   \n",
      "12               Russia      5                9                31   \n",
      "13                Spain     12               42                33   \n",
      "14               Sweden      5               17                19   \n",
      "15              Ukraine      2                7                26   \n",
      "\n",
      "   Shooting Accuracy % Goals-to-shots  Total shots (inc. Blocked)  \\\n",
      "0              51.9%            16.0%                          32   \n",
      "1              41.9%            12.9%                          39   \n",
      "2              50.0%            20.0%                          27   \n",
      "3              50.0%            17.2%                          40   \n",
      "4              37.9%             6.5%                          65   \n",
      "5              47.8%            15.6%                          80   \n",
      "6              30.7%            19.2%                          32   \n",
      "7              43.0%             7.5%                         110   \n",
      "8              25.0%             4.1%                          60   \n",
      "9              39.4%             5.2%                          48   \n",
      "10             34.3%             9.3%                          82   \n",
      "11             36.8%             5.2%                          28   \n",
      "12             22.5%            12.5%                          59   \n",
      "13             55.9%            16.0%                         100   \n",
      "14             47.2%            13.8%                          39   \n",
      "15             21.2%             6.0%                          38   \n",
      "\n",
      "    Hit Woodwork  Penalty goals  Penalties not scored  ...  Clean Sheets  \\\n",
      "0              0              0                     0  ...             0   \n",
      "1              0              0                     0  ...             1   \n",
      "2              1              0                     0  ...             1   \n",
      "3              0              0                     0  ...             2   \n",
      "4              1              0                     0  ...             1   \n",
      "5              2              1                     0  ...             1   \n",
      "6              1              1                     1  ...             1   \n",
      "7              2              0                     0  ...             2   \n",
      "8              2              0                     0  ...             0   \n",
      "9              0              0                     0  ...             0   \n",
      "10             6              0                     0  ...             2   \n",
      "11             0              0                     0  ...             0   \n",
      "12             2              0                     0  ...             0   \n",
      "13             0              1                     0  ...             5   \n",
      "14             3              0                     0  ...             1   \n",
      "15             0              0                     0  ...             0   \n",
      "\n",
      "    Blocks  Goals conceded Saves made  Saves-to-shots ratio  Fouls Won  \\\n",
      "0       10               3         13                 81.3%         41   \n",
      "1       10               6          9                 60.1%         53   \n",
      "2       10               5         10                 66.7%         25   \n",
      "3       29               3         22                 88.1%         43   \n",
      "4        7               5          6                 54.6%         36   \n",
      "5       11               6         10                 62.6%         63   \n",
      "6       23               7         13                 65.1%         67   \n",
      "7       18               7         20                 74.1%        101   \n",
      "8        9               5         12                 70.6%         35   \n",
      "9        8               3          6                 66.7%         48   \n",
      "10      11               4         10                 71.5%         73   \n",
      "11      23               9         17                 65.4%         43   \n",
      "12       8               3         10                 77.0%         34   \n",
      "13       8               1         15                 93.8%        102   \n",
      "14      12               5          8                 61.6%         35   \n",
      "15       4               4         13                 76.5%         48   \n",
      "\n",
      "    Fouls Conceded  Offsides  Yellow Cards  Red Cards  \n",
      "0               62         2             9          0  \n",
      "1               73         8             7          0  \n",
      "2               38         8             4          0  \n",
      "3               45         6             5          0  \n",
      "4               51         5             6          0  \n",
      "5               49        12             4          0  \n",
      "6               48        12             9          1  \n",
      "7               89        16            16          0  \n",
      "8               30         3             5          0  \n",
      "9               56         3             7          1  \n",
      "10              90        10            12          0  \n",
      "11              51        11             6          1  \n",
      "12              43         4             6          0  \n",
      "13              83        19            11          0  \n",
      "14              51         7             7          0  \n",
      "15              31         4             5          0  \n",
      "\n",
      "[16 rows x 32 columns]\n"
     ]
    }
   ],
   "source": [
    "leaving_last_3 = euro12.iloc[:, :-3]\n",
    "print(leaving_last_3)"
   ]
  },
  {
   "cell_type": "code",
   "execution_count": 26,
   "id": "b3b58acd-d70a-4c2b-b23d-7c3fdee8a138",
   "metadata": {
    "tags": []
   },
   "outputs": [
    {
     "name": "stdout",
     "output_type": "stream",
     "text": [
      "       Team Shooting Accuracy\n",
      "3   England             50.0%\n",
      "7     Italy             43.0%\n",
      "12   Russia             22.5%\n"
     ]
    }
   ],
   "source": [
    "shooting_acc_teams = ['England', 'Italy', 'Russia']\n",
    "shooting_accuracy_teams = euro12.loc[euro12['Team'].isin(shooting_acc_teams), ['Team', 'Shooting Accuracy']]\n",
    "print(shooting_accuracy_teams)"
   ]
  },
  {
   "cell_type": "markdown",
   "id": "7f761021-3a3a-4831-995f-1222070e03a3",
   "metadata": {},
   "source": [
    "# Question 3"
   ]
  },
  {
   "cell_type": "code",
   "execution_count": 1,
   "id": "c5a848a7-7911-46ef-8c23-c143e3867cc6",
   "metadata": {},
   "outputs": [],
   "source": [
    "import pandas as pd\n",
    "import numpy as np"
   ]
  },
  {
   "cell_type": "code",
   "execution_count": 2,
   "id": "20064073-d0dc-4add-b126-450605b24a90",
   "metadata": {
    "tags": []
   },
   "outputs": [],
   "source": [
    "series1 = pd.Series(np.random.randint(1, 5, size=100))"
   ]
  },
  {
   "cell_type": "code",
   "execution_count": 3,
   "id": "a2d6a96b-15ec-422c-a9d7-9a17962d814c",
   "metadata": {
    "tags": []
   },
   "outputs": [],
   "source": [
    "series2 = pd.Series(np.random.randint(1, 4, size=100))"
   ]
  },
  {
   "cell_type": "code",
   "execution_count": 4,
   "id": "b54dbf23-9935-4fe5-96b0-aa3ab0a5c45f",
   "metadata": {
    "tags": []
   },
   "outputs": [],
   "source": [
    "series3 = pd.Series(np.random.randint(10000, 30001, size=100))"
   ]
  },
  {
   "cell_type": "code",
   "execution_count": 5,
   "id": "984ab17f-6c67-4ed7-b670-5fa2e0132556",
   "metadata": {
    "tags": []
   },
   "outputs": [
    {
     "name": "stdout",
     "output_type": "stream",
     "text": [
      "Series 1:\n",
      "0    2\n",
      "1    2\n",
      "2    1\n",
      "3    2\n",
      "4    4\n",
      "dtype: int32\n",
      "\n",
      "Series 2:\n",
      "0    1\n",
      "1    2\n",
      "2    2\n",
      "3    1\n",
      "4    1\n",
      "dtype: int32\n",
      "\n",
      "Series 3:\n",
      "0    28165\n",
      "1    27839\n",
      "2    11322\n",
      "3    29443\n",
      "4    25145\n",
      "dtype: int32\n"
     ]
    }
   ],
   "source": [
    "print(\"Series 1:\")\n",
    "print(series1.head())\n",
    "print(\"\\nSeries 2:\")\n",
    "print(series2.head())\n",
    "print(\"\\nSeries 3:\")\n",
    "print(series3.head())"
   ]
  },
  {
   "cell_type": "code",
   "execution_count": 6,
   "id": "32544abc-d5cf-44d5-8097-d6ede72c12ce",
   "metadata": {
    "tags": []
   },
   "outputs": [
    {
     "name": "stdout",
     "output_type": "stream",
     "text": [
      "   Series1  Series2  Series3\n",
      "0        2        1    28165\n",
      "1        2        2    27839\n",
      "2        1        2    11322\n",
      "3        2        1    29443\n",
      "4        4        1    25145\n"
     ]
    }
   ],
   "source": [
    "df = pd.DataFrame({'Series1': series1, 'Series2': series2, 'Series3': series3})\n",
    "print(df.head())"
   ]
  },
  {
   "cell_type": "code",
   "execution_count": 7,
   "id": "202845d8-e8ea-42cb-94c7-1839f4e5310e",
   "metadata": {
    "tags": []
   },
   "outputs": [
    {
     "name": "stdout",
     "output_type": "stream",
     "text": [
      "   bedrs  bathrs  price_sqr_meter\n",
      "0      2       1            28165\n",
      "1      2       2            27839\n",
      "2      1       2            11322\n",
      "3      2       1            29443\n",
      "4      4       1            25145\n"
     ]
    }
   ],
   "source": [
    "df.columns = ['bedrs', 'bathrs', 'price_sqr_meter']\n",
    "print(df.head())"
   ]
  },
  {
   "cell_type": "code",
   "execution_count": 8,
   "id": "38890eb2-d954-4393-b050-3700dc61f0cb",
   "metadata": {
    "tags": []
   },
   "outputs": [
    {
     "name": "stdout",
     "output_type": "stream",
     "text": [
      "RangeIndex(start=0, stop=300, step=1)\n"
     ]
    }
   ],
   "source": [
    "bigcolumn = pd.concat([series1, series2, series3], axis=0).to_frame(name='bigcolumn')\n",
    "bigcolumn.reset_index(drop=True, inplace=True)\n",
    "print(bigcolumn.index)"
   ]
  },
  {
   "cell_type": "markdown",
   "id": "18a484f8-dad3-4db8-851f-2882d75a0665",
   "metadata": {},
   "source": [
    "# Question 4"
   ]
  },
  {
   "cell_type": "code",
   "execution_count": 2,
   "id": "a12663ae-3b7d-4f81-95f0-690584dab187",
   "metadata": {
    "tags": []
   },
   "outputs": [
    {
     "data": {
      "text/html": [
       "<div>\n",
       "<style scoped>\n",
       "    .dataframe tbody tr th:only-of-type {\n",
       "        vertical-align: middle;\n",
       "    }\n",
       "\n",
       "    .dataframe tbody tr th {\n",
       "        vertical-align: top;\n",
       "    }\n",
       "\n",
       "    .dataframe thead th {\n",
       "        text-align: right;\n",
       "    }\n",
       "</style>\n",
       "<table border=\"1\" class=\"dataframe\">\n",
       "  <thead>\n",
       "    <tr style=\"text-align: right;\">\n",
       "      <th></th>\n",
       "      <th>RPT</th>\n",
       "      <th>VAL</th>\n",
       "      <th>ROS</th>\n",
       "      <th>KIL</th>\n",
       "      <th>SHA</th>\n",
       "      <th>BIR</th>\n",
       "      <th>DUB</th>\n",
       "      <th>CLA</th>\n",
       "      <th>MUL</th>\n",
       "      <th>CLO</th>\n",
       "      <th>BEL</th>\n",
       "      <th>MAL</th>\n",
       "    </tr>\n",
       "    <tr>\n",
       "      <th>Date</th>\n",
       "      <th></th>\n",
       "      <th></th>\n",
       "      <th></th>\n",
       "      <th></th>\n",
       "      <th></th>\n",
       "      <th></th>\n",
       "      <th></th>\n",
       "      <th></th>\n",
       "      <th></th>\n",
       "      <th></th>\n",
       "      <th></th>\n",
       "      <th></th>\n",
       "    </tr>\n",
       "  </thead>\n",
       "  <tbody>\n",
       "    <tr>\n",
       "      <th>2061-01-01</th>\n",
       "      <td>15.04</td>\n",
       "      <td>14.96</td>\n",
       "      <td>13.17</td>\n",
       "      <td>9.29</td>\n",
       "      <td>NaN</td>\n",
       "      <td>9.87</td>\n",
       "      <td>13.67</td>\n",
       "      <td>10.25</td>\n",
       "      <td>10.83</td>\n",
       "      <td>12.58</td>\n",
       "      <td>18.50</td>\n",
       "      <td>15.04</td>\n",
       "    </tr>\n",
       "    <tr>\n",
       "      <th>2061-01-02</th>\n",
       "      <td>14.71</td>\n",
       "      <td>NaN</td>\n",
       "      <td>10.83</td>\n",
       "      <td>6.50</td>\n",
       "      <td>12.62</td>\n",
       "      <td>7.67</td>\n",
       "      <td>11.50</td>\n",
       "      <td>10.04</td>\n",
       "      <td>9.79</td>\n",
       "      <td>9.67</td>\n",
       "      <td>17.54</td>\n",
       "      <td>13.83</td>\n",
       "    </tr>\n",
       "    <tr>\n",
       "      <th>2061-01-03</th>\n",
       "      <td>18.50</td>\n",
       "      <td>16.88</td>\n",
       "      <td>12.33</td>\n",
       "      <td>10.13</td>\n",
       "      <td>11.17</td>\n",
       "      <td>6.17</td>\n",
       "      <td>11.25</td>\n",
       "      <td>NaN</td>\n",
       "      <td>8.50</td>\n",
       "      <td>7.67</td>\n",
       "      <td>12.75</td>\n",
       "      <td>12.71</td>\n",
       "    </tr>\n",
       "    <tr>\n",
       "      <th>2061-01-04</th>\n",
       "      <td>10.58</td>\n",
       "      <td>6.63</td>\n",
       "      <td>11.75</td>\n",
       "      <td>4.58</td>\n",
       "      <td>4.54</td>\n",
       "      <td>2.88</td>\n",
       "      <td>8.63</td>\n",
       "      <td>1.79</td>\n",
       "      <td>5.83</td>\n",
       "      <td>5.88</td>\n",
       "      <td>5.46</td>\n",
       "      <td>10.88</td>\n",
       "    </tr>\n",
       "    <tr>\n",
       "      <th>2061-01-05</th>\n",
       "      <td>13.33</td>\n",
       "      <td>13.25</td>\n",
       "      <td>11.42</td>\n",
       "      <td>6.17</td>\n",
       "      <td>10.71</td>\n",
       "      <td>8.21</td>\n",
       "      <td>11.92</td>\n",
       "      <td>6.54</td>\n",
       "      <td>10.92</td>\n",
       "      <td>10.34</td>\n",
       "      <td>12.92</td>\n",
       "      <td>11.83</td>\n",
       "    </tr>\n",
       "  </tbody>\n",
       "</table>\n",
       "</div>"
      ],
      "text/plain": [
       "              RPT    VAL    ROS    KIL    SHA   BIR    DUB    CLA    MUL  \\\n",
       "Date                                                                       \n",
       "2061-01-01  15.04  14.96  13.17   9.29    NaN  9.87  13.67  10.25  10.83   \n",
       "2061-01-02  14.71    NaN  10.83   6.50  12.62  7.67  11.50  10.04   9.79   \n",
       "2061-01-03  18.50  16.88  12.33  10.13  11.17  6.17  11.25    NaN   8.50   \n",
       "2061-01-04  10.58   6.63  11.75   4.58   4.54  2.88   8.63   1.79   5.83   \n",
       "2061-01-05  13.33  13.25  11.42   6.17  10.71  8.21  11.92   6.54  10.92   \n",
       "\n",
       "              CLO    BEL    MAL  \n",
       "Date                             \n",
       "2061-01-01  12.58  18.50  15.04  \n",
       "2061-01-02   9.67  17.54  13.83  \n",
       "2061-01-03   7.67  12.75  12.71  \n",
       "2061-01-04   5.88   5.46  10.88  \n",
       "2061-01-05  10.34  12.92  11.83  "
      ]
     },
     "execution_count": 2,
     "metadata": {},
     "output_type": "execute_result"
    }
   ],
   "source": [
    "data = pd.read_csv('wind.txt', delim_whitespace=True, parse_dates={'Date': ['Yr', 'Mo', 'Dy']})\n",
    "data.set_index('Date', inplace=True)\n",
    "data.head()"
   ]
  },
  {
   "cell_type": "code",
   "execution_count": 3,
   "id": "a9e0bb40-6b6d-4e6b-a430-02404ce2dddc",
   "metadata": {
    "tags": []
   },
   "outputs": [
    {
     "data": {
      "text/html": [
       "<div>\n",
       "<style scoped>\n",
       "    .dataframe tbody tr th:only-of-type {\n",
       "        vertical-align: middle;\n",
       "    }\n",
       "\n",
       "    .dataframe tbody tr th {\n",
       "        vertical-align: top;\n",
       "    }\n",
       "\n",
       "    .dataframe thead th {\n",
       "        text-align: right;\n",
       "    }\n",
       "</style>\n",
       "<table border=\"1\" class=\"dataframe\">\n",
       "  <thead>\n",
       "    <tr style=\"text-align: right;\">\n",
       "      <th></th>\n",
       "      <th>RPT</th>\n",
       "      <th>VAL</th>\n",
       "      <th>ROS</th>\n",
       "      <th>KIL</th>\n",
       "      <th>SHA</th>\n",
       "      <th>BIR</th>\n",
       "      <th>DUB</th>\n",
       "      <th>CLA</th>\n",
       "      <th>MUL</th>\n",
       "      <th>CLO</th>\n",
       "      <th>BEL</th>\n",
       "      <th>MAL</th>\n",
       "    </tr>\n",
       "    <tr>\n",
       "      <th>Date</th>\n",
       "      <th></th>\n",
       "      <th></th>\n",
       "      <th></th>\n",
       "      <th></th>\n",
       "      <th></th>\n",
       "      <th></th>\n",
       "      <th></th>\n",
       "      <th></th>\n",
       "      <th></th>\n",
       "      <th></th>\n",
       "      <th></th>\n",
       "      <th></th>\n",
       "    </tr>\n",
       "  </thead>\n",
       "  <tbody>\n",
       "    <tr>\n",
       "      <th>2023-01-01</th>\n",
       "      <td>15.04</td>\n",
       "      <td>14.96</td>\n",
       "      <td>13.17</td>\n",
       "      <td>9.29</td>\n",
       "      <td>NaN</td>\n",
       "      <td>9.87</td>\n",
       "      <td>13.67</td>\n",
       "      <td>10.25</td>\n",
       "      <td>10.83</td>\n",
       "      <td>12.58</td>\n",
       "      <td>18.50</td>\n",
       "      <td>15.04</td>\n",
       "    </tr>\n",
       "    <tr>\n",
       "      <th>2023-01-02</th>\n",
       "      <td>14.71</td>\n",
       "      <td>NaN</td>\n",
       "      <td>10.83</td>\n",
       "      <td>6.50</td>\n",
       "      <td>12.62</td>\n",
       "      <td>7.67</td>\n",
       "      <td>11.50</td>\n",
       "      <td>10.04</td>\n",
       "      <td>9.79</td>\n",
       "      <td>9.67</td>\n",
       "      <td>17.54</td>\n",
       "      <td>13.83</td>\n",
       "    </tr>\n",
       "    <tr>\n",
       "      <th>2023-01-03</th>\n",
       "      <td>18.50</td>\n",
       "      <td>16.88</td>\n",
       "      <td>12.33</td>\n",
       "      <td>10.13</td>\n",
       "      <td>11.17</td>\n",
       "      <td>6.17</td>\n",
       "      <td>11.25</td>\n",
       "      <td>NaN</td>\n",
       "      <td>8.50</td>\n",
       "      <td>7.67</td>\n",
       "      <td>12.75</td>\n",
       "      <td>12.71</td>\n",
       "    </tr>\n",
       "    <tr>\n",
       "      <th>2023-01-04</th>\n",
       "      <td>10.58</td>\n",
       "      <td>6.63</td>\n",
       "      <td>11.75</td>\n",
       "      <td>4.58</td>\n",
       "      <td>4.54</td>\n",
       "      <td>2.88</td>\n",
       "      <td>8.63</td>\n",
       "      <td>1.79</td>\n",
       "      <td>5.83</td>\n",
       "      <td>5.88</td>\n",
       "      <td>5.46</td>\n",
       "      <td>10.88</td>\n",
       "    </tr>\n",
       "    <tr>\n",
       "      <th>2023-01-05</th>\n",
       "      <td>13.33</td>\n",
       "      <td>13.25</td>\n",
       "      <td>11.42</td>\n",
       "      <td>6.17</td>\n",
       "      <td>10.71</td>\n",
       "      <td>8.21</td>\n",
       "      <td>11.92</td>\n",
       "      <td>6.54</td>\n",
       "      <td>10.92</td>\n",
       "      <td>10.34</td>\n",
       "      <td>12.92</td>\n",
       "      <td>11.83</td>\n",
       "    </tr>\n",
       "  </tbody>\n",
       "</table>\n",
       "</div>"
      ],
      "text/plain": [
       "              RPT    VAL    ROS    KIL    SHA   BIR    DUB    CLA    MUL  \\\n",
       "Date                                                                       \n",
       "2023-01-01  15.04  14.96  13.17   9.29    NaN  9.87  13.67  10.25  10.83   \n",
       "2023-01-02  14.71    NaN  10.83   6.50  12.62  7.67  11.50  10.04   9.79   \n",
       "2023-01-03  18.50  16.88  12.33  10.13  11.17  6.17  11.25    NaN   8.50   \n",
       "2023-01-04  10.58   6.63  11.75   4.58   4.54  2.88   8.63   1.79   5.83   \n",
       "2023-01-05  13.33  13.25  11.42   6.17  10.71  8.21  11.92   6.54  10.92   \n",
       "\n",
       "              CLO    BEL    MAL  \n",
       "Date                             \n",
       "2023-01-01  12.58  18.50  15.04  \n",
       "2023-01-02   9.67  17.54  13.83  \n",
       "2023-01-03   7.67  12.75  12.71  \n",
       "2023-01-04   5.88   5.46  10.88  \n",
       "2023-01-05  10.34  12.92  11.83  "
      ]
     },
     "execution_count": 3,
     "metadata": {},
     "output_type": "execute_result"
    }
   ],
   "source": [
    "data.index = data.index - pd.DateOffset(years=38)\n",
    "data.head()"
   ]
  },
  {
   "cell_type": "code",
   "execution_count": 4,
   "id": "d13ab944-15ba-400b-aecf-de3a7082ba6e",
   "metadata": {
    "tags": []
   },
   "outputs": [
    {
     "data": {
      "text/html": [
       "<div>\n",
       "<style scoped>\n",
       "    .dataframe tbody tr th:only-of-type {\n",
       "        vertical-align: middle;\n",
       "    }\n",
       "\n",
       "    .dataframe tbody tr th {\n",
       "        vertical-align: top;\n",
       "    }\n",
       "\n",
       "    .dataframe thead th {\n",
       "        text-align: right;\n",
       "    }\n",
       "</style>\n",
       "<table border=\"1\" class=\"dataframe\">\n",
       "  <thead>\n",
       "    <tr style=\"text-align: right;\">\n",
       "      <th></th>\n",
       "      <th>RPT</th>\n",
       "      <th>VAL</th>\n",
       "      <th>ROS</th>\n",
       "      <th>KIL</th>\n",
       "      <th>SHA</th>\n",
       "      <th>BIR</th>\n",
       "      <th>DUB</th>\n",
       "      <th>CLA</th>\n",
       "      <th>MUL</th>\n",
       "      <th>CLO</th>\n",
       "      <th>BEL</th>\n",
       "      <th>MAL</th>\n",
       "    </tr>\n",
       "    <tr>\n",
       "      <th>Date</th>\n",
       "      <th></th>\n",
       "      <th></th>\n",
       "      <th></th>\n",
       "      <th></th>\n",
       "      <th></th>\n",
       "      <th></th>\n",
       "      <th></th>\n",
       "      <th></th>\n",
       "      <th></th>\n",
       "      <th></th>\n",
       "      <th></th>\n",
       "      <th></th>\n",
       "    </tr>\n",
       "  </thead>\n",
       "  <tbody>\n",
       "    <tr>\n",
       "      <th>2023-01-01</th>\n",
       "      <td>15.04</td>\n",
       "      <td>14.96</td>\n",
       "      <td>13.17</td>\n",
       "      <td>9.29</td>\n",
       "      <td>NaN</td>\n",
       "      <td>9.87</td>\n",
       "      <td>13.67</td>\n",
       "      <td>10.25</td>\n",
       "      <td>10.83</td>\n",
       "      <td>12.58</td>\n",
       "      <td>18.50</td>\n",
       "      <td>15.04</td>\n",
       "    </tr>\n",
       "    <tr>\n",
       "      <th>2023-01-02</th>\n",
       "      <td>14.71</td>\n",
       "      <td>NaN</td>\n",
       "      <td>10.83</td>\n",
       "      <td>6.50</td>\n",
       "      <td>12.62</td>\n",
       "      <td>7.67</td>\n",
       "      <td>11.50</td>\n",
       "      <td>10.04</td>\n",
       "      <td>9.79</td>\n",
       "      <td>9.67</td>\n",
       "      <td>17.54</td>\n",
       "      <td>13.83</td>\n",
       "    </tr>\n",
       "    <tr>\n",
       "      <th>2023-01-03</th>\n",
       "      <td>18.50</td>\n",
       "      <td>16.88</td>\n",
       "      <td>12.33</td>\n",
       "      <td>10.13</td>\n",
       "      <td>11.17</td>\n",
       "      <td>6.17</td>\n",
       "      <td>11.25</td>\n",
       "      <td>NaN</td>\n",
       "      <td>8.50</td>\n",
       "      <td>7.67</td>\n",
       "      <td>12.75</td>\n",
       "      <td>12.71</td>\n",
       "    </tr>\n",
       "    <tr>\n",
       "      <th>2023-01-04</th>\n",
       "      <td>10.58</td>\n",
       "      <td>6.63</td>\n",
       "      <td>11.75</td>\n",
       "      <td>4.58</td>\n",
       "      <td>4.54</td>\n",
       "      <td>2.88</td>\n",
       "      <td>8.63</td>\n",
       "      <td>1.79</td>\n",
       "      <td>5.83</td>\n",
       "      <td>5.88</td>\n",
       "      <td>5.46</td>\n",
       "      <td>10.88</td>\n",
       "    </tr>\n",
       "    <tr>\n",
       "      <th>2023-01-05</th>\n",
       "      <td>13.33</td>\n",
       "      <td>13.25</td>\n",
       "      <td>11.42</td>\n",
       "      <td>6.17</td>\n",
       "      <td>10.71</td>\n",
       "      <td>8.21</td>\n",
       "      <td>11.92</td>\n",
       "      <td>6.54</td>\n",
       "      <td>10.92</td>\n",
       "      <td>10.34</td>\n",
       "      <td>12.92</td>\n",
       "      <td>11.83</td>\n",
       "    </tr>\n",
       "  </tbody>\n",
       "</table>\n",
       "</div>"
      ],
      "text/plain": [
       "              RPT    VAL    ROS    KIL    SHA   BIR    DUB    CLA    MUL  \\\n",
       "Date                                                                       \n",
       "2023-01-01  15.04  14.96  13.17   9.29    NaN  9.87  13.67  10.25  10.83   \n",
       "2023-01-02  14.71    NaN  10.83   6.50  12.62  7.67  11.50  10.04   9.79   \n",
       "2023-01-03  18.50  16.88  12.33  10.13  11.17  6.17  11.25    NaN   8.50   \n",
       "2023-01-04  10.58   6.63  11.75   4.58   4.54  2.88   8.63   1.79   5.83   \n",
       "2023-01-05  13.33  13.25  11.42   6.17  10.71  8.21  11.92   6.54  10.92   \n",
       "\n",
       "              CLO    BEL    MAL  \n",
       "Date                             \n",
       "2023-01-01  12.58  18.50  15.04  \n",
       "2023-01-02   9.67  17.54  13.83  \n",
       "2023-01-03   7.67  12.75  12.71  \n",
       "2023-01-04   5.88   5.46  10.88  \n",
       "2023-01-05  10.34  12.92  11.83  "
      ]
     },
     "execution_count": 4,
     "metadata": {},
     "output_type": "execute_result"
    }
   ],
   "source": [
    "data.index = pd.to_datetime(data.index)\n",
    "data.head()"
   ]
  },
  {
   "cell_type": "code",
   "execution_count": 5,
   "id": "57dec948-e33b-472f-8e4e-0930518f4d2c",
   "metadata": {
    "tags": []
   },
   "outputs": [
    {
     "name": "stdout",
     "output_type": "stream",
     "text": [
      "RPT    6\n",
      "VAL    3\n",
      "ROS    2\n",
      "KIL    5\n",
      "SHA    2\n",
      "BIR    0\n",
      "DUB    3\n",
      "CLA    2\n",
      "MUL    3\n",
      "CLO    1\n",
      "BEL    0\n",
      "MAL    4\n",
      "dtype: int64\n"
     ]
    }
   ],
   "source": [
    "missing_values_per_loc = data.isnull().sum()\n",
    "print(missing_values_per_loc)"
   ]
  },
  {
   "cell_type": "code",
   "execution_count": 6,
   "id": "581abd68-db1b-4e99-b5ca-3826392c0014",
   "metadata": {
    "tags": []
   },
   "outputs": [
    {
     "data": {
      "text/plain": [
       "78857"
      ]
     },
     "execution_count": 6,
     "metadata": {},
     "output_type": "execute_result"
    }
   ],
   "source": [
    "total_non_missing_val = data.count().sum()\n",
    "total_non_missing_val"
   ]
  },
  {
   "cell_type": "code",
   "execution_count": 7,
   "id": "8ca2dfa4-997e-40e8-bc60-63c727585acf",
   "metadata": {
    "tags": []
   },
   "outputs": [
    {
     "name": "stdout",
     "output_type": "stream",
     "text": [
      "Mean windspeed of the dataset:  10.22788376428218\n"
     ]
    }
   ],
   "source": [
    "mean_windspeed_of_the_dataset = data.stack().mean()\n",
    "print(\"Mean windspeed of the dataset: \", mean_windspeed_of_the_dataset)"
   ]
  },
  {
   "cell_type": "code",
   "execution_count": 8,
   "id": "6870a76b-a41d-4565-aeed-c42a8cf58c36",
   "metadata": {
    "tags": []
   },
   "outputs": [
    {
     "name": "stdout",
     "output_type": "stream",
     "text": [
      "      min    max       mean       std\n",
      "RPT  0.67  35.80  12.362987  5.618413\n",
      "VAL  0.21  33.37  10.644314  5.267356\n",
      "ROS  1.50  33.84  11.660526  5.008450\n",
      "KIL  0.00  28.46   6.306468  3.605811\n",
      "SHA  0.13  37.54  10.455834  4.936125\n",
      "BIR  0.00  26.16   7.092254  3.968683\n",
      "DUB  0.00  30.37   9.797343  4.977555\n",
      "CLA  0.00  31.08   8.495053  4.499449\n",
      "MUL  0.00  25.88   8.493590  4.166872\n",
      "CLO  0.04  28.21   8.707332  4.503954\n",
      "BEL  0.13  42.38  13.121007  5.835037\n",
      "MAL  0.67  42.54  15.599079  6.699794\n"
     ]
    }
   ],
   "source": [
    "loc_stats = pd.DataFrame({\n",
    "    'min': data.min(),\n",
    "    'max': data.max(),\n",
    "    'mean': data.mean(),\n",
    "    'std': data.std()\n",
    "})\n",
    "\n",
    "print(loc_stats)"
   ]
  },
  {
   "cell_type": "code",
   "execution_count": 10,
   "id": "9c11477e-fb4c-415a-9b63-18e774f6ab81",
   "metadata": {},
   "outputs": [
    {
     "name": "stdout",
     "output_type": "stream",
     "text": [
      "             min    max       mean       std\n",
      "Date                                        \n",
      "2023-01-01  9.29  18.50  13.018182  2.808875\n",
      "2023-01-02  6.50  17.54  11.336364  3.188994\n",
      "2023-01-03  6.17  18.50  11.641818  3.681912\n",
      "2023-01-04  1.79  11.75   6.619167  3.198126\n",
      "2023-01-05  6.17  13.33  10.630000  2.445356\n",
      "...          ...    ...        ...       ...\n",
      "1940-12-27  8.08  40.08  16.708333  7.868076\n",
      "1940-12-28  5.00  41.46  15.150000  9.687857\n",
      "1940-12-29  8.71  29.58  14.890000  5.756836\n",
      "1940-12-30  9.13  28.79  15.367500  5.540437\n",
      "1940-12-31  9.59  27.29  15.402500  5.702483\n",
      "\n",
      "[6574 rows x 4 columns]\n"
     ]
    }
   ],
   "source": [
    "day_stats = pd.DataFrame({\n",
    "    'min': data.min(axis=1),\n",
    "    'max': data.max(axis=1),\n",
    "    'mean': data.mean(axis=1),\n",
    "    'std': data.std(axis=1)\n",
    "})\n",
    "print(day_stats)"
   ]
  },
  {
   "cell_type": "code",
   "execution_count": 11,
   "id": "69659470-4104-4f6d-b317-7013bf79d2bf",
   "metadata": {
    "tags": []
   },
   "outputs": [
    {
     "name": "stdout",
     "output_type": "stream",
     "text": [
      "RPT    14.847325\n",
      "VAL    12.914560\n",
      "ROS    13.299624\n",
      "KIL     7.199498\n",
      "SHA    11.667734\n",
      "BIR     8.054839\n",
      "DUB    11.819355\n",
      "CLA     9.512047\n",
      "MUL     9.543208\n",
      "CLO    10.053566\n",
      "BEL    14.550520\n",
      "MAL    18.028763\n",
      "dtype: float64\n"
     ]
    }
   ],
   "source": [
    "jan_windspeed_avg = data[data.index.month == 1].mean()\n",
    "print(jan_windspeed_avg)"
   ]
  },
  {
   "cell_type": "code",
   "execution_count": 12,
   "id": "214fe82b-28cc-4f53-ac4b-9a5a3401de36",
   "metadata": {
    "tags": []
   },
   "outputs": [
    {
     "name": "stdout",
     "output_type": "stream",
     "text": [
      "                  RPT        VAL        ROS       KIL        SHA       BIR  \\\n",
      "Date                                                                         \n",
      "1935-12-31  11.828466  10.680493  10.680493  5.547863   9.640877  6.548740   \n",
      "1936-12-31  13.643096  11.811781  12.336356  6.427041  11.110986  6.809781   \n",
      "1937-12-31  12.008575  10.293836  11.564712  5.269096   9.190082  5.668521   \n",
      "1938-12-31  11.737842  10.203115  10.761230  5.109426   8.846339  6.311038   \n",
      "1939-12-31  13.099616  11.144493  12.627836  6.073945  10.003836  8.586438   \n",
      "...               ...        ...        ...       ...        ...       ...   \n",
      "2030-12-31  11.835628  10.468197  11.409754  6.477678  10.760765  6.067322   \n",
      "2031-12-31  11.166356   9.723699  10.902000  5.767973   9.873918  6.189973   \n",
      "2032-12-31  12.600329  10.726932  11.730247  6.217178  10.567370  7.609452   \n",
      "2033-12-31  11.273123   9.095178  11.088329  5.241507   9.440329  6.097151   \n",
      "2034-12-31  12.463962  10.561311  12.058333  5.929699   9.430410  6.358825   \n",
      "\n",
      "                  DUB       CLA       MUL       CLO        BEL        MAL  \n",
      "Date                                                                       \n",
      "1935-12-31   8.482110  7.614274  8.245534  7.812411  12.169699  15.441096  \n",
      "1936-12-31  10.084603  9.896986  9.331753  8.736356  13.252959  16.947671  \n",
      "1937-12-31   8.562603  7.843836  8.797945  7.382822  12.631671  15.307863  \n",
      "1938-12-31   9.149126  7.146202  8.883716  7.883087  12.332377  15.471448  \n",
      "1939-12-31  11.523205  8.378384  9.098192  8.821616  13.459068  16.590849  \n",
      "...               ...       ...       ...       ...        ...        ...  \n",
      "2030-12-31   8.859180  8.255519  7.224945  7.832978  12.808634  15.017486  \n",
      "2031-12-31   8.564493  7.711397  7.924521  7.754384  12.621233  15.762904  \n",
      "2032-12-31   9.609890  8.334630  9.297616  8.289808  13.183644  16.456027  \n",
      "2033-12-31   8.385890  6.757315  7.915370  7.229753  12.208932  15.025233  \n",
      "2034-12-31   9.704508  7.680792  8.357295  7.515273  12.727377  15.028716  \n",
      "\n",
      "[100 rows x 12 columns]\n"
     ]
    }
   ],
   "source": [
    "yearly_freq_by_loc = data.resample('Y').mean()\n",
    "print(yearly_freq_by_loc)"
   ]
  },
  {
   "cell_type": "code",
   "execution_count": 13,
   "id": "19bfcb19-1449-4cb1-8241-0b2d19d0eadb",
   "metadata": {
    "tags": []
   },
   "outputs": [
    {
     "name": "stdout",
     "output_type": "stream",
     "text": [
      "                  RPT        VAL        ROS       KIL        SHA       BIR  \\\n",
      "Date                                                                         \n",
      "1935-01-31  13.177742  12.202903  10.860968  5.454516   9.327419  7.419677   \n",
      "1935-02-28  14.411071  13.129643  10.126786  6.708929  12.078214  7.673929   \n",
      "1935-03-31  11.840645  11.706452  10.771290  5.574516   9.494516  6.273871   \n",
      "1935-04-30  13.827667  11.922667  13.310333  7.525333  10.236000  8.213000   \n",
      "1935-05-31  12.786129  11.152258  11.188387  6.472258  10.801290  8.265484   \n",
      "...               ...        ...        ...       ...        ...       ...   \n",
      "2034-08-31   9.822581   6.824194   9.757097  4.443871   6.490323  4.565484   \n",
      "2034-09-30   9.247333   7.534000  10.230667  3.791667   5.322333  3.580333   \n",
      "2034-10-31  11.489677   9.816774  11.952903  5.230968   7.185484  5.014516   \n",
      "2034-11-30  12.247333  12.351667  11.569333  5.364000   7.687000  5.761667   \n",
      "2034-12-31  15.641290  15.786774  13.743548  7.825806  11.673871  9.877742   \n",
      "\n",
      "                  DUB        CLA        MUL        CLO        BEL        MAL  \n",
      "Date                                                                          \n",
      "1935-01-31  10.738710   7.880000   8.651290   7.596774  12.076452  14.684516  \n",
      "1935-02-28  10.943571   8.951071  10.840357   8.923214  14.941071  18.833571  \n",
      "1935-03-31   8.374194   8.080968   8.311935   7.856129  12.209677  15.496452  \n",
      "1935-04-30  10.935667   9.102000  10.109000  10.051000  13.134000  16.795000  \n",
      "1935-05-31   9.048065   8.895161   9.909355   8.887419  11.650645  15.821935  \n",
      "...               ...        ...        ...        ...        ...        ...  \n",
      "2034-08-31   8.524194   5.536452   7.302581   5.746774   9.592258  12.696452  \n",
      "2034-09-30   6.846333   5.241000   5.628000   4.171667   9.379000  10.560000  \n",
      "2034-10-31   9.021290   7.967097   7.726129   6.436774  11.919677  14.347742  \n",
      "2034-11-30  10.761000   8.375000   8.483000   7.318000  13.775667  17.888667  \n",
      "2034-12-31  12.566774  11.049355  10.232581   9.782258  17.575806  19.519355  \n",
      "\n",
      "[1200 rows x 12 columns]\n"
     ]
    }
   ],
   "source": [
    "monthly_freq_by_loc = data.resample('M').mean()\n",
    "print(monthly_freq_by_loc)"
   ]
  },
  {
   "cell_type": "code",
   "execution_count": 14,
   "id": "766e8333-bdbd-466c-810b-b7abbca14f52",
   "metadata": {
    "tags": []
   },
   "outputs": [
    {
     "name": "stdout",
     "output_type": "stream",
     "text": [
      "                  RPT        VAL        ROS        KIL        SHA        BIR  \\\n",
      "Date                                                                           \n",
      "1935-01-06   9.925000   9.630000   9.541667   3.700000   5.368333   4.853333   \n",
      "1935-01-13  13.904286  11.398571  11.804286   5.191429   8.552857   7.280000   \n",
      "1935-01-20  14.597143  13.052857  13.001429   7.375714  11.457143   8.930000   \n",
      "1935-01-27  13.237143  13.900000  10.120000   5.005714  10.910000   8.090000   \n",
      "1935-02-03  12.612857  11.441429   7.697143   5.281429   8.808571   6.402857   \n",
      "...               ...        ...        ...        ...        ...        ...   \n",
      "2034-12-03  15.875714  17.012857  13.291429   7.624286  11.770000  10.102857   \n",
      "2034-12-10  16.048571  16.661429  13.124286   6.564286  11.644286   9.744286   \n",
      "2034-12-17  19.954286  20.430000  17.610000  11.494286  15.457143  13.250000   \n",
      "2034-12-24   9.088571  11.432857   9.238571   4.375714   7.797143   6.417143   \n",
      "2034-12-31  17.992857  14.958571  15.820000   9.658571  11.935714  10.391429   \n",
      "\n",
      "                  DUB        CLA        MUL        CLO        BEL        MAL  \n",
      "Date                                                                          \n",
      "1935-01-06   7.520000   4.306667   5.951667   4.353333   6.941667   7.403333  \n",
      "1935-01-13   8.387143   7.132857   7.058571   6.241429   9.297143  12.028571  \n",
      "1935-01-20  13.690000   8.661429  10.301429  10.492857  14.445714  20.247143  \n",
      "1935-01-27  12.111429   9.755714  10.000000   8.065714  15.240000  17.631429  \n",
      "1935-02-03   9.578571   8.054286   8.631429   7.575714  13.418571  12.998571  \n",
      "...               ...        ...        ...        ...        ...        ...  \n",
      "2034-12-03  14.207143  11.470000  10.518571  10.571429  18.095714  20.541429  \n",
      "2034-12-10  15.284286   9.904286  10.178571   9.518571  15.428571  18.750000  \n",
      "2034-12-17  15.644286  15.152857  12.684286  13.210000  22.655714  23.557143  \n",
      "2034-12-24   6.642857   7.620000   6.744286   5.910000  15.591429  17.332857  \n",
      "2034-12-31  12.808571  12.112857  11.964286  11.320000  17.802857  19.250000  \n",
      "\n",
      "[5218 rows x 12 columns]\n"
     ]
    }
   ],
   "source": [
    "weekly_freq_by_loc = data.resample('W').mean()\n",
    "print(weekly_freq_by_loc)"
   ]
  },
  {
   "cell_type": "code",
   "execution_count": 15,
   "id": "a688e938-5b60-4864-b125-5c036e483cc6",
   "metadata": {
    "tags": []
   },
   "outputs": [
    {
     "name": "stdout",
     "output_type": "stream",
     "text": [
      "              RPT                                VAL                    \\\n",
      "              min    max       mean       std    min    max       mean   \n",
      "Date                                                                     \n",
      "1935-01-07   2.92  16.50  10.232857  4.990039   4.58  15.92   9.808571   \n",
      "1935-01-14   7.75  22.37  15.321429  5.312327   2.67  21.71  12.945714   \n",
      "1935-01-21   6.42  23.67  13.108571  5.965253   3.08  22.37  11.118571   \n",
      "1935-01-28  10.34  16.08  13.880000  2.371996   7.67  16.96  13.828571   \n",
      "1935-02-04   4.00  17.88  12.870000  4.580637   3.54  18.50  12.214286   \n",
      "1935-02-11  10.54  18.46  15.374286  3.014785  10.37  18.75  14.232857   \n",
      "1935-02-18   8.21  28.01  17.198571  6.723026   5.71  28.16  16.022857   \n",
      "1935-02-25   8.38  19.58  13.207143  4.764958   8.33  16.54  12.370000   \n",
      "1935-03-04   9.21  18.25  14.278571  3.495022   8.21  19.08  11.427143   \n",
      "1935-03-11   5.58  17.16  11.724286  3.810787   9.13  18.16  13.237143   \n",
      "1935-03-18   4.42   8.50   6.422857  1.313858   4.00   8.42   6.084286   \n",
      "1935-03-25   4.17  22.58  12.387143  7.027588   3.13  20.91  12.618571   \n",
      "1935-04-01  11.00  18.50  14.921429  2.737124   9.46  17.08  14.934286   \n",
      "1935-04-08  12.17  28.71  18.720000  5.270376  10.92  20.46  15.537143   \n",
      "1935-04-15   7.79  19.75  13.067143  4.791738   5.75  15.37  10.018571   \n",
      "1935-04-22   9.08  16.33  12.778571  2.583244   8.50  13.46  11.037143   \n",
      "1935-04-29   4.25  16.00  10.422857  4.929272   3.58  15.41  10.135714   \n",
      "1935-05-06  11.92  16.29  13.291429  1.620087   6.38  14.09  10.920000   \n",
      "1935-05-13  11.00  22.46  16.637143  4.134161  11.00  17.08  14.124286   \n",
      "1935-05-20   5.17  21.79  13.054286  5.907438   6.58  20.54  12.488571   \n",
      "1935-05-27   6.04  13.33   9.135714  2.615351   3.54  13.50   8.047143   \n",
      "1935-06-03   3.04  18.25  11.864286  4.920748   3.83  14.29  10.385714   \n",
      "1935-06-10   3.37  12.71   7.554286  4.249882   3.13  10.54   6.060000   \n",
      "1935-06-17   7.12  16.17  11.058571  2.870978   7.96  16.75  11.988571   \n",
      "1935-06-24   6.38  16.38  10.281429  3.999335   3.21  12.71   7.362857   \n",
      "1935-07-01   3.75  19.46  11.371429  6.784240   4.67  16.50   9.214286   \n",
      "1935-07-08   4.50  16.21   8.328571  4.126138   4.71  12.17   9.405714   \n",
      "1935-07-15   4.92  13.29   7.635714  2.820206   4.96   8.46   6.737143   \n",
      "1935-07-22   7.17  16.17  12.340000  3.068355   3.33  14.37  10.190000   \n",
      "1935-07-29   1.25   9.50   5.762857  2.800463   2.83   8.71   5.364286   \n",
      "1935-08-05   4.63  16.38   8.810000  4.102617   4.71  14.88   7.685714   \n",
      "1935-08-12   4.67  18.75  11.721429  6.000368   2.46  16.42   9.612857   \n",
      "1935-08-19   5.00  11.08   6.940000  2.054945   1.54   9.42   5.661429   \n",
      "1935-08-26   2.42   7.17   4.501429  1.963394   2.00   8.38   5.268571   \n",
      "1935-09-02   9.21  16.33  13.220000  2.338988   7.79  15.71  11.595714   \n",
      "1935-09-09   3.88  14.12   7.370000  3.538168   0.83  15.21   8.845714   \n",
      "1935-09-16   9.46  17.12  13.095714  2.904318   1.75  14.12   9.898571   \n",
      "1935-09-23   5.13  17.04  10.682857  4.745039   3.58  15.67   9.357143   \n",
      "1935-09-30   8.87  22.88  15.128571  4.798394   9.13  23.21  15.361429   \n",
      "1935-10-07   5.75  13.67   9.845714  2.535921   3.46   8.38   5.961429   \n",
      "1935-10-14  10.34  21.59  14.484286  4.046249  10.34  22.25  13.988571   \n",
      "1935-10-21   9.04  18.84  13.000000  3.777446   4.92  15.54   9.911429   \n",
      "1935-10-28   4.92  12.67   8.674286  3.039303   5.71  11.79   9.018571   \n",
      "1935-11-04   7.21  14.50  11.975714  2.418704   5.83  14.50  11.712857   \n",
      "1935-11-11   6.83  22.54  14.278571  5.199043   6.67  18.54  13.165714   \n",
      "1935-11-18   7.71  19.79  12.912857  3.829477   8.12  19.21  12.617143   \n",
      "1935-11-25   5.41  10.75   7.714286  1.969085   4.92  12.87   7.432857   \n",
      "1935-12-02   4.83  16.46  10.661429  4.424193   1.71  17.04   9.035714   \n",
      "1935-12-09   8.79  19.75  14.308571  3.540473   6.17  22.54  12.155714   \n",
      "1935-12-16  10.00  27.29  17.938571  6.292258  11.25  20.83  14.815714   \n",
      "1935-12-23   6.71  17.29  12.840000  3.205958   4.71  18.88  12.352857   \n",
      "1935-12-30   3.00  21.12  10.910000  6.044389   4.83  18.58  10.161429   \n",
      "\n",
      "                        ROS         ...        CLO              BEL         \\\n",
      "                 std    min    max  ...       mean       std    min    max   \n",
      "Date                                ...                                      \n",
      "1935-01-07  3.676721   4.63  15.04  ...   4.314286  4.418879   2.83  13.37   \n",
      "1935-01-14  6.157908   3.54  22.04  ...   7.295714  5.710601   4.83  16.66   \n",
      "1935-01-21  7.399589   4.42  25.08  ...   9.957143  7.676926   7.00  25.37   \n",
      "1935-01-28  3.345432   6.04  13.13  ...   8.052857  2.929196   9.46  21.00   \n",
      "1935-02-04  4.494300   4.29  12.75  ...   7.992857  2.859468   6.21  18.50   \n",
      "1935-02-11  3.382089   8.46  15.92  ...  11.548571  2.981171  11.08  23.09   \n",
      "1935-02-18  8.899720   5.04  17.58  ...   7.768571  6.885512   4.88  30.63   \n",
      "1935-02-25  3.682603   6.79  11.29  ...  10.257143  4.371715   7.96  21.59   \n",
      "1935-03-04  4.103449   6.58  15.59  ...   8.275714  4.579414   3.33  22.50   \n",
      "1935-03-11  3.292080   6.00  13.62  ...   6.075714  3.230938   3.79  14.46   \n",
      "1935-03-18  1.531327   7.29  11.83  ...   3.667143  1.950826   2.25   6.96   \n",
      "1935-03-25  6.039013   4.00  18.58  ...   8.981429  6.035082   4.12  24.75   \n",
      "1935-04-01  2.660945   8.75  15.41  ...  11.487143  3.709648  12.08  23.87   \n",
      "1935-04-08  3.219724  10.79  22.34  ...  13.622857  2.870997  14.21  22.42   \n",
      "1935-04-15  4.184130   6.87  13.37  ...   8.198571  3.126059   6.58  13.96   \n",
      "1935-04-22  1.884690   8.42  25.88  ...  11.630000  2.538668   7.92  15.59   \n",
      "1935-04-29  4.503802   5.63  29.79  ...   7.095714  5.693057   4.58  21.21   \n",
      "1935-05-06  3.124772   8.46  18.25  ...   8.178571  2.760600   8.17  17.33   \n",
      "1935-05-13  2.534139   8.29  14.67  ...  11.982857  2.614624   8.96  20.54   \n",
      "1935-05-20  5.353452   9.38  17.92  ...  10.285714  4.571582   4.67  17.67   \n",
      "1935-05-27  3.269841   5.54   9.62  ...   6.297143  2.125509   3.21  11.83   \n",
      "1935-06-03  3.710961   5.63  14.50  ...   7.067143  2.375779   4.21  16.46   \n",
      "1935-06-10  2.666983   4.50   7.87  ...   4.191429  3.833177   5.25  15.25   \n",
      "1935-06-17  3.348509   8.79  16.29  ...  10.220000  3.183515  12.83  23.13   \n",
      "1935-06-24  3.832696   4.46  13.67  ...   6.077143  3.532269   6.50  20.25   \n",
      "1935-07-01  4.103254   5.13  16.66  ...   7.931429  4.905842   4.21  19.21   \n",
      "1935-07-08  2.381693   5.13  11.50  ...   6.374286  2.093003   6.83  18.84   \n",
      "1935-07-15  1.287552   5.04   9.83  ...   6.388571  3.020499   6.17  14.21   \n",
      "1935-07-22  3.595168   8.75  16.04  ...   9.640000  3.236423  10.17  18.50   \n",
      "1935-07-29  1.864313   3.42   9.29  ...   4.517143  2.642775   3.58   8.25   \n",
      "1935-08-05  3.745712   4.38  13.75  ...   6.618571  2.298655   7.92  16.46   \n",
      "1935-08-12  6.068876   5.63  17.00  ...   7.404286  5.293577   4.38  23.33   \n",
      "1935-08-19  2.985127   4.71   9.59  ...   3.438571  1.268850   2.42  10.92   \n",
      "1935-08-26  2.419665   3.54   9.29  ...   3.757143  2.072709   5.33   9.83   \n",
      "1935-09-02  2.588448   7.83  15.71  ...   7.731429  3.773506  10.54  24.25   \n",
      "1935-09-09  4.961474   5.96  14.71  ...   4.808571  3.063356   5.50  19.58   \n",
      "1935-09-16  4.167135   6.50  15.96  ...   5.232857  1.711351   6.08  14.83   \n",
      "1935-09-23  3.909807   7.75  17.79  ...   4.975714  1.925321   6.17  15.54   \n",
      "1935-09-30  5.351014   9.00  17.16  ...   8.918571  3.798554  11.12  19.55   \n",
      "1935-10-07  1.681938   6.17  19.87  ...   4.552857  0.732546   3.88   9.50   \n",
      "1935-10-14  4.691988   8.50  22.63  ...   7.145714  1.478398   8.25  16.21   \n",
      "1935-10-21  3.908548   7.17  24.67  ...   9.488571  1.722822  10.29  15.34   \n",
      "1935-10-28  1.978892   4.46  11.08  ...   6.744286  1.447087   5.04  17.54   \n",
      "1935-11-04  2.837791   4.17  13.50  ...   6.188571  2.079555   4.75  13.21   \n",
      "1935-11-11  3.953466   6.46  20.04  ...   9.922857  4.931341   4.63  24.25   \n",
      "1935-11-18  3.918306   6.63  16.21  ...  11.432857  5.041222   9.59  24.00   \n",
      "1935-11-25  2.720397   6.25  10.92  ...   6.725714  4.243811   3.08  15.16   \n",
      "1935-12-02  4.812909   6.54  17.29  ...   5.628571  2.053675   5.37  15.63   \n",
      "1935-12-09  5.199413   7.79  17.62  ...   9.517143  1.640271   8.79  17.83   \n",
      "1935-12-16  3.537692   8.04  18.75  ...  14.481429  4.093224  12.33  23.00   \n",
      "1935-12-23  4.724453   6.87  23.29  ...   6.892857  3.734634   6.17  19.33   \n",
      "1935-12-30  4.763379   6.04  20.12  ...   9.505714  4.612656   5.58  24.54   \n",
      "\n",
      "                                   MAL                              \n",
      "                 mean       std    min    max       mean       std  \n",
      "Date                                                                \n",
      "1935-01-07   6.872857  4.245950   4.17  14.04   7.470000  3.455252  \n",
      "1935-01-14  10.671429  4.831499   6.79  23.63  13.350000  5.850524  \n",
      "1935-01-21  13.774286  7.485401   6.50  32.66  21.265714  9.217673  \n",
      "1935-01-28  15.477143  3.797739  10.75  21.29  16.310000  3.449585  \n",
      "1935-02-04  13.681429  4.400820   6.79  18.66  13.415714  4.568037  \n",
      "1935-02-11  17.702857  3.636962  15.29  27.71  23.004286  4.569117  \n",
      "1935-02-18  17.637143  9.016503   9.59  35.75  18.395714  9.852791  \n",
      "1935-02-25  14.214286  4.948720  10.21  33.09  21.761429  7.997513  \n",
      "1935-03-04  12.084286  6.012062   8.67  24.37  16.320000  5.391700  \n",
      "1935-03-11   9.614286  4.239127   6.92  19.87  13.557143  4.870033  \n",
      "1935-03-18   3.661429  1.526428   5.00  12.67   8.952857  3.096803  \n",
      "1935-03-25  16.422857  7.991664   4.75  25.37  16.142857  8.154403  \n",
      "1935-04-01  17.585714  4.594333  13.96  27.75  21.667143  5.087133  \n",
      "1935-04-08  18.828571  3.350649  19.95  28.21  24.205714  3.769354  \n",
      "1935-04-15  10.178571  3.232880   7.96  15.96  12.905714  2.910200  \n",
      "1935-04-22  11.818571  3.008319  13.08  21.21  17.392857  2.988850  \n",
      "1935-04-29  11.005714  5.539425   6.42  22.54  12.318571  5.688557  \n",
      "1935-05-06  12.552857  3.898161   9.67  24.08  15.592857  4.626902  \n",
      "1935-05-13  15.900000  3.827314  14.96  26.83  20.154286  3.850640  \n",
      "1935-05-20  11.785714  5.002056   9.92  26.08  18.440000  5.928024  \n",
      "1935-05-27   8.077143  2.889456   5.50  19.75  11.518571  4.730509  \n",
      "1935-06-03  11.148571  3.940488   7.08  17.21  12.440000  3.762393  \n",
      "1935-06-10  10.011429  3.804828   5.04  20.33  11.855714  4.877892  \n",
      "1935-06-17  17.151429  3.759603  12.29  27.16  18.060000  5.102303  \n",
      "1935-06-24  12.421429  5.152548   4.63  17.29  10.417143  5.250751  \n",
      "1935-07-01  11.995714  6.062439   5.41  17.79  11.451429  4.758734  \n",
      "1935-07-08  12.917143  4.008881   7.38  16.83  11.714286  3.643354  \n",
      "1935-07-15  11.192857  3.029916   9.50  15.25  12.185714  2.093911  \n",
      "1935-07-22  14.340000  2.782565  10.29  18.79  15.238571  3.137135  \n",
      "1935-07-29   6.017143  1.774812   3.88  13.75   7.341429  3.699637  \n",
      "1935-08-05  12.530000  3.083310   9.96  16.17  13.428571  2.429379  \n",
      "1935-08-12  11.780000  7.159083   5.33  28.79  14.255714  7.674937  \n",
      "1935-08-19   6.734286  3.171844   3.88  16.21   9.495714  4.073773  \n",
      "1935-08-26   7.880000  1.906559   4.46  14.09   9.162857  4.367138  \n",
      "1935-09-02  15.320000  4.834256   8.92  24.54  17.314286  5.526704  \n",
      "1935-09-09  12.394286  4.746247   5.96  18.12   9.688571  4.575298  \n",
      "1935-09-16   9.825714  2.764084   6.92  17.12  11.941429  3.858758  \n",
      "1935-09-23  10.351429  3.893154   8.54  19.38  12.012857  3.481574  \n",
      "1935-09-30  15.291429  3.418827  12.67  29.29  20.364286  5.623448  \n",
      "1935-10-07   6.762857  2.217286   4.88  13.88   9.834286  3.412042  \n",
      "1935-10-14  12.488571  2.482992  14.12  20.75  16.748571  2.283385  \n",
      "1935-10-21  13.262857  1.907116  16.21  22.83  19.671429  2.943204  \n",
      "1935-10-28  12.064286  3.771299  11.83  20.38  15.234286  3.008609  \n",
      "1935-11-04   7.560000  3.013038   9.25  17.88  12.220000  2.793659  \n",
      "1935-11-11  14.174286  6.223131   9.92  27.92  20.917143  6.424600  \n",
      "1935-11-18  15.240000  5.013834  16.62  33.71  23.158571  5.828306  \n",
      "1935-11-25   8.571429  4.089374   8.87  26.83  17.605714  5.700084  \n",
      "1935-12-02   9.755714  3.112206   7.50  23.58  14.267143  4.953483  \n",
      "1935-12-09  13.208571  3.266902  16.96  23.45  19.951429  2.165090  \n",
      "1935-12-16  17.088571  3.593756  20.12  31.49  26.177143  4.670581  \n",
      "1935-12-23  10.060000  4.815506   7.41  25.12  15.557143  7.028086  \n",
      "1935-12-30  13.648571  5.808105   7.75  29.04  19.034286  6.389037  \n",
      "\n",
      "[52 rows x 48 columns]\n"
     ]
    }
   ],
   "source": [
    "weekly_stats = data.resample('W-Mon').agg(['min', 'max', 'mean', 'std']).head(52)\n",
    "print(weekly_stats)"
   ]
  },
  {
   "cell_type": "markdown",
   "id": "5e4be907-a91a-41cb-83a7-227d2b9ac0da",
   "metadata": {},
   "source": [
    "# Question 5"
   ]
  },
  {
   "cell_type": "code",
   "execution_count": 32,
   "id": "c1af480d-7f7e-4979-8a84-88710ec34a5e",
   "metadata": {
    "tags": []
   },
   "outputs": [
    {
     "data": {
      "text/html": [
       "<div>\n",
       "<style scoped>\n",
       "    .dataframe tbody tr th:only-of-type {\n",
       "        vertical-align: middle;\n",
       "    }\n",
       "\n",
       "    .dataframe tbody tr th {\n",
       "        vertical-align: top;\n",
       "    }\n",
       "\n",
       "    .dataframe thead th {\n",
       "        text-align: right;\n",
       "    }\n",
       "</style>\n",
       "<table border=\"1\" class=\"dataframe\">\n",
       "  <thead>\n",
       "    <tr style=\"text-align: right;\">\n",
       "      <th></th>\n",
       "      <th>order_id</th>\n",
       "      <th>quantity</th>\n",
       "      <th>item_name</th>\n",
       "      <th>choice_description</th>\n",
       "      <th>item_price</th>\n",
       "    </tr>\n",
       "  </thead>\n",
       "  <tbody>\n",
       "    <tr>\n",
       "      <th>0</th>\n",
       "      <td>1</td>\n",
       "      <td>1</td>\n",
       "      <td>Chips and Fresh Tomato Salsa</td>\n",
       "      <td>NaN</td>\n",
       "      <td>$2.39</td>\n",
       "    </tr>\n",
       "    <tr>\n",
       "      <th>1</th>\n",
       "      <td>1</td>\n",
       "      <td>1</td>\n",
       "      <td>Izze</td>\n",
       "      <td>[Clementine]</td>\n",
       "      <td>$3.39</td>\n",
       "    </tr>\n",
       "    <tr>\n",
       "      <th>2</th>\n",
       "      <td>1</td>\n",
       "      <td>1</td>\n",
       "      <td>Nantucket Nectar</td>\n",
       "      <td>[Apple]</td>\n",
       "      <td>$3.39</td>\n",
       "    </tr>\n",
       "    <tr>\n",
       "      <th>3</th>\n",
       "      <td>1</td>\n",
       "      <td>1</td>\n",
       "      <td>Chips and Tomatillo-Green Chili Salsa</td>\n",
       "      <td>NaN</td>\n",
       "      <td>$2.39</td>\n",
       "    </tr>\n",
       "    <tr>\n",
       "      <th>4</th>\n",
       "      <td>2</td>\n",
       "      <td>2</td>\n",
       "      <td>Chicken Bowl</td>\n",
       "      <td>[Tomatillo-Red Chili Salsa (Hot), [Black Beans...</td>\n",
       "      <td>$16.98</td>\n",
       "    </tr>\n",
       "  </tbody>\n",
       "</table>\n",
       "</div>"
      ],
      "text/plain": [
       "   order_id  quantity                              item_name  \\\n",
       "0         1         1           Chips and Fresh Tomato Salsa   \n",
       "1         1         1                                   Izze   \n",
       "2         1         1                       Nantucket Nectar   \n",
       "3         1         1  Chips and Tomatillo-Green Chili Salsa   \n",
       "4         2         2                           Chicken Bowl   \n",
       "\n",
       "                                  choice_description item_price  \n",
       "0                                                NaN     $2.39   \n",
       "1                                       [Clementine]     $3.39   \n",
       "2                                            [Apple]     $3.39   \n",
       "3                                                NaN     $2.39   \n",
       "4  [Tomatillo-Red Chili Salsa (Hot), [Black Beans...    $16.98   "
      ]
     },
     "execution_count": 32,
     "metadata": {},
     "output_type": "execute_result"
    }
   ],
   "source": [
    "url = 'https://raw.githubusercontent.com/justmarkham/DAT8/master/data/chipotle.tsv'\n",
    "chipo = pd.read_csv(url, sep='\\t')\n",
    "chipo.head()"
   ]
  },
  {
   "cell_type": "code",
   "execution_count": 33,
   "id": "f216746a-8d40-41b8-85ca-e791b2914086",
   "metadata": {
    "tags": []
   },
   "outputs": [
    {
     "data": {
      "text/html": [
       "<div>\n",
       "<style scoped>\n",
       "    .dataframe tbody tr th:only-of-type {\n",
       "        vertical-align: middle;\n",
       "    }\n",
       "\n",
       "    .dataframe tbody tr th {\n",
       "        vertical-align: top;\n",
       "    }\n",
       "\n",
       "    .dataframe thead th {\n",
       "        text-align: right;\n",
       "    }\n",
       "</style>\n",
       "<table border=\"1\" class=\"dataframe\">\n",
       "  <thead>\n",
       "    <tr style=\"text-align: right;\">\n",
       "      <th></th>\n",
       "      <th>order_id</th>\n",
       "      <th>quantity</th>\n",
       "      <th>item_name</th>\n",
       "      <th>choice_description</th>\n",
       "      <th>item_price</th>\n",
       "    </tr>\n",
       "  </thead>\n",
       "  <tbody>\n",
       "    <tr>\n",
       "      <th>0</th>\n",
       "      <td>1</td>\n",
       "      <td>1</td>\n",
       "      <td>Chips and Fresh Tomato Salsa</td>\n",
       "      <td>NaN</td>\n",
       "      <td>$2.39</td>\n",
       "    </tr>\n",
       "    <tr>\n",
       "      <th>1</th>\n",
       "      <td>1</td>\n",
       "      <td>1</td>\n",
       "      <td>Izze</td>\n",
       "      <td>[Clementine]</td>\n",
       "      <td>$3.39</td>\n",
       "    </tr>\n",
       "    <tr>\n",
       "      <th>2</th>\n",
       "      <td>1</td>\n",
       "      <td>1</td>\n",
       "      <td>Nantucket Nectar</td>\n",
       "      <td>[Apple]</td>\n",
       "      <td>$3.39</td>\n",
       "    </tr>\n",
       "    <tr>\n",
       "      <th>3</th>\n",
       "      <td>1</td>\n",
       "      <td>1</td>\n",
       "      <td>Chips and Tomatillo-Green Chili Salsa</td>\n",
       "      <td>NaN</td>\n",
       "      <td>$2.39</td>\n",
       "    </tr>\n",
       "    <tr>\n",
       "      <th>4</th>\n",
       "      <td>2</td>\n",
       "      <td>2</td>\n",
       "      <td>Chicken Bowl</td>\n",
       "      <td>[Tomatillo-Red Chili Salsa (Hot), [Black Beans...</td>\n",
       "      <td>$16.98</td>\n",
       "    </tr>\n",
       "    <tr>\n",
       "      <th>5</th>\n",
       "      <td>3</td>\n",
       "      <td>1</td>\n",
       "      <td>Chicken Bowl</td>\n",
       "      <td>[Fresh Tomato Salsa (Mild), [Rice, Cheese, Sou...</td>\n",
       "      <td>$10.98</td>\n",
       "    </tr>\n",
       "    <tr>\n",
       "      <th>6</th>\n",
       "      <td>3</td>\n",
       "      <td>1</td>\n",
       "      <td>Side of Chips</td>\n",
       "      <td>NaN</td>\n",
       "      <td>$1.69</td>\n",
       "    </tr>\n",
       "    <tr>\n",
       "      <th>7</th>\n",
       "      <td>4</td>\n",
       "      <td>1</td>\n",
       "      <td>Steak Burrito</td>\n",
       "      <td>[Tomatillo Red Chili Salsa, [Fajita Vegetables...</td>\n",
       "      <td>$11.75</td>\n",
       "    </tr>\n",
       "    <tr>\n",
       "      <th>8</th>\n",
       "      <td>4</td>\n",
       "      <td>1</td>\n",
       "      <td>Steak Soft Tacos</td>\n",
       "      <td>[Tomatillo Green Chili Salsa, [Pinto Beans, Ch...</td>\n",
       "      <td>$9.25</td>\n",
       "    </tr>\n",
       "    <tr>\n",
       "      <th>9</th>\n",
       "      <td>5</td>\n",
       "      <td>1</td>\n",
       "      <td>Steak Burrito</td>\n",
       "      <td>[Fresh Tomato Salsa, [Rice, Black Beans, Pinto...</td>\n",
       "      <td>$9.25</td>\n",
       "    </tr>\n",
       "  </tbody>\n",
       "</table>\n",
       "</div>"
      ],
      "text/plain": [
       "   order_id  quantity                              item_name  \\\n",
       "0         1         1           Chips and Fresh Tomato Salsa   \n",
       "1         1         1                                   Izze   \n",
       "2         1         1                       Nantucket Nectar   \n",
       "3         1         1  Chips and Tomatillo-Green Chili Salsa   \n",
       "4         2         2                           Chicken Bowl   \n",
       "5         3         1                           Chicken Bowl   \n",
       "6         3         1                          Side of Chips   \n",
       "7         4         1                          Steak Burrito   \n",
       "8         4         1                       Steak Soft Tacos   \n",
       "9         5         1                          Steak Burrito   \n",
       "\n",
       "                                  choice_description item_price  \n",
       "0                                                NaN     $2.39   \n",
       "1                                       [Clementine]     $3.39   \n",
       "2                                            [Apple]     $3.39   \n",
       "3                                                NaN     $2.39   \n",
       "4  [Tomatillo-Red Chili Salsa (Hot), [Black Beans...    $16.98   \n",
       "5  [Fresh Tomato Salsa (Mild), [Rice, Cheese, Sou...    $10.98   \n",
       "6                                                NaN     $1.69   \n",
       "7  [Tomatillo Red Chili Salsa, [Fajita Vegetables...    $11.75   \n",
       "8  [Tomatillo Green Chili Salsa, [Pinto Beans, Ch...     $9.25   \n",
       "9  [Fresh Tomato Salsa, [Rice, Black Beans, Pinto...     $9.25   "
      ]
     },
     "execution_count": 33,
     "metadata": {},
     "output_type": "execute_result"
    }
   ],
   "source": [
    "chipo.head(10)"
   ]
  },
  {
   "cell_type": "code",
   "execution_count": 34,
   "id": "b8c1debf-a3cb-45ef-adc5-0a19f8feec85",
   "metadata": {
    "tags": []
   },
   "outputs": [
    {
     "name": "stdout",
     "output_type": "stream",
     "text": [
      "Number of observations in the dataset is:  4622\n"
     ]
    }
   ],
   "source": [
    "print(\"Number of observations in the dataset is: \", len(chipo))"
   ]
  },
  {
   "cell_type": "code",
   "execution_count": 35,
   "id": "96096a12-daee-4b8b-b5d3-5642c72d27c7",
   "metadata": {
    "tags": []
   },
   "outputs": [
    {
     "name": "stdout",
     "output_type": "stream",
     "text": [
      "Number of columns in the dataset is:  5\n"
     ]
    }
   ],
   "source": [
    "print(\"Number of columns in the dataset is: \", len(chipo.columns))"
   ]
  },
  {
   "cell_type": "code",
   "execution_count": 36,
   "id": "cb1c0688-33e2-4599-835d-4b3e07ec0c49",
   "metadata": {
    "tags": []
   },
   "outputs": [
    {
     "name": "stdout",
     "output_type": "stream",
     "text": [
      "order_id\n",
      "quantity\n",
      "item_name\n",
      "choice_description\n",
      "item_price\n"
     ]
    }
   ],
   "source": [
    "for column in chipo.columns:\n",
    "    print(column)"
   ]
  },
  {
   "cell_type": "code",
   "execution_count": 37,
   "id": "1947e856-02df-4109-927f-f750425e8389",
   "metadata": {
    "tags": []
   },
   "outputs": [
    {
     "name": "stdout",
     "output_type": "stream",
     "text": [
      "RangeIndex(start=0, stop=4622, step=1)\n"
     ]
    }
   ],
   "source": [
    "print(chipo.index)"
   ]
  },
  {
   "cell_type": "code",
   "execution_count": 38,
   "id": "7bc44f53-6865-4cee-a21a-97aa0a8de0f4",
   "metadata": {
    "tags": []
   },
   "outputs": [
    {
     "name": "stdout",
     "output_type": "stream",
     "text": [
      "Most ordered item is:  Chicken Bowl\n",
      "Number of times it was ordered:  761\n"
     ]
    }
   ],
   "source": [
    "item_orders = chipo.groupby('item_name')['quantity'].sum()\n",
    "most_ordered_item = item_orders.idxmax()\n",
    "most_ordered_item_quantity = item_orders.max()\n",
    "print(\"Most ordered item is: \", most_ordered_item)\n",
    "print(\"Number of times it was ordered: \", most_ordered_item_quantity)"
   ]
  },
  {
   "cell_type": "code",
   "execution_count": 39,
   "id": "872709e0-ada4-4726-9697-be62ed18c3b1",
   "metadata": {
    "tags": []
   },
   "outputs": [
    {
     "name": "stdout",
     "output_type": "stream",
     "text": [
      "The most ordered item in the choice description column is:  [Diet Coke]\n"
     ]
    }
   ],
   "source": [
    "choice_column_order_max = chipo.groupby('choice_description')['quantity'].sum()\n",
    "most_ordered_choice = choice_column_order_max.idxmax()\n",
    "\n",
    "print(\"The most ordered item in the choice description column is: \", most_ordered_choice)"
   ]
  },
  {
   "cell_type": "code",
   "execution_count": 43,
   "id": "b37b58a8-9bbf-422c-8f05-ad9c718d6b6e",
   "metadata": {
    "tags": []
   },
   "outputs": [
    {
     "name": "stdout",
     "output_type": "stream",
     "text": [
      "Total number of orders are:  4972\n"
     ]
    }
   ],
   "source": [
    "total_num_of_orders = chipo['quantity'].sum()\n",
    "print(\"Total number of orders are: \", total_num_of_orders)"
   ]
  },
  {
   "cell_type": "code",
   "execution_count": 59,
   "id": "ab8c73ee-4186-4c33-a6e2-90ef1702eb2d",
   "metadata": {
    "tags": []
   },
   "outputs": [
    {
     "name": "stdout",
     "output_type": "stream",
     "text": [
      "float64\n",
      "Item price type after applying lambda function:  float64\n"
     ]
    }
   ],
   "source": [
    "chipo['item_price'] = pd.to_numeric(chipo['item_price'])\n",
    "print(chipo['item_price'].dtype)\n",
    "chipo['item_price'] = chipo['item_price'].apply(lambda x: float(x))\n",
    "print(\"Item price type after applying lambda function: \", chipo['item_price'].dtype)"
   ]
  },
  {
   "cell_type": "code",
   "execution_count": 51,
   "id": "46bf16eb-f5b1-431f-a980-23f8ee364b4a",
   "metadata": {
    "tags": []
   },
   "outputs": [
    {
     "name": "stdout",
     "output_type": "stream",
     "text": [
      "Total revenue is:  39237.02\n"
     ]
    }
   ],
   "source": [
    "revenue = (chipo['quantity'] * chipo['item_price']).sum()\n",
    "print(\"Total revenue is: \", revenue)"
   ]
  },
  {
   "cell_type": "code",
   "execution_count": 52,
   "id": "2f6211f5-0eef-4386-afa5-3c4d47e41526",
   "metadata": {
    "tags": []
   },
   "outputs": [
    {
     "name": "stdout",
     "output_type": "stream",
     "text": [
      "Total number of orders:  1834\n"
     ]
    }
   ],
   "source": [
    "total_num_of_ordered = chipo['order_id'].nunique()\n",
    "print(\"Total number of orders: \", total_num_of_ordered)"
   ]
  },
  {
   "cell_type": "code",
   "execution_count": 53,
   "id": "0637552c-3911-4b1b-996c-d4df8d84b0e3",
   "metadata": {
    "tags": []
   },
   "outputs": [
    {
     "name": "stdout",
     "output_type": "stream",
     "text": [
      "Average revenue per order is:  21.39423118865867\n"
     ]
    }
   ],
   "source": [
    "average_revenue_per_order = revenue / total_num_of_ordered\n",
    "print(\"Average revenue per order is: \", average_revenue_per_order)"
   ]
  },
  {
   "cell_type": "code",
   "execution_count": 54,
   "id": "446af716-3dc4-4947-bfd1-028ae949fa6d",
   "metadata": {
    "tags": []
   },
   "outputs": [
    {
     "name": "stdout",
     "output_type": "stream",
     "text": [
      "Unique items:  50\n"
     ]
    }
   ],
   "source": [
    "unique_items = chipo['item_name'].nunique()\n",
    "print(\"Unique items: \", unique_items)"
   ]
  },
  {
   "cell_type": "markdown",
   "id": "e9288cae-d9f6-458f-b60c-d940a1045d6b",
   "metadata": {},
   "source": [
    "# Question 6"
   ]
  },
  {
   "cell_type": "code",
   "execution_count": 55,
   "id": "a412d055-2389-4473-823a-ef61463cddbc",
   "metadata": {
    "tags": []
   },
   "outputs": [],
   "source": [
    "import matplotlib.pyplot as plt"
   ]
  },
  {
   "cell_type": "code",
   "execution_count": 56,
   "id": "e69be80c-fa7c-4dbb-959a-a37f6d99b361",
   "metadata": {
    "tags": []
   },
   "outputs": [],
   "source": [
    "marriage_divorce = pd.read_csv('us-marriages-divorces-1867-2014.csv')"
   ]
  },
  {
   "cell_type": "code",
   "execution_count": 57,
   "id": "d179639c-4f5a-4936-b353-32017fd0cc77",
   "metadata": {
    "tags": []
   },
   "outputs": [
    {
     "data": {
      "text/plain": [
       "<matplotlib.legend.Legend at 0x1bb9088ffd0>"
      ]
     },
     "execution_count": 57,
     "metadata": {},
     "output_type": "execute_result"
    },
    {
     "data": {
      "image/png": "[encoded data removed]",
      "text/plain": [
       "<Figure size 640x480 with 1 Axes>"
      ]
     },
     "metadata": {},
     "output_type": "display_data"
    }
   ],
   "source": [
    "plt.plot(marriage_divorce['Year'], marriage_divorce['Marriages_per_1000'], label='Marriages per 1000')\n",
    "plt.plot(marriage_divorce['Year'], marriage_divorce['Divorces_per_1000'], label='Divorces per 1000')\n",
    "plt.xlabel('Year')\n",
    "plt.ylabel('Number of marriage/divorce per capita in the U.S')\n",
    "plt.title('Number of Marriages and Divorces per Capita (1867-2014)')\n",
    "plt.legend()"
   ]
  },
  {
   "cell_type": "markdown",
   "id": "5ab6129c-e32a-4635-a23e-81e297c4acff",
   "metadata": {},
   "source": [
    "# Question 7"
   ]
  },
  {
   "cell_type": "code",
   "execution_count": 63,
   "id": "470cd6e3-2bf1-45e4-aeae-73dcb4a5135b",
   "metadata": {
    "tags": []
   },
   "outputs": [
    {
     "data": {
      "text/plain": [
       "<matplotlib.legend.Legend at 0x131b9594550>"
      ]
     },
     "execution_count": 63,
     "metadata": {},
     "output_type": "execute_result"
    },
    {
     "data": {
      "image/png": "[encoded data removed]",
      "text/plain": [
       "<Figure size 640x480 with 1 Axes>"
      ]
     },
     "metadata": {},
     "output_type": "display_data"
    }
   ],
   "source": [
    "selected_years = marriage_divorce[marriage_divorce['Year'].isin([1900, 1950, 2000])]\n",
    "plt.bar(selected_years['Year'], selected_years['Marriages_per_1000'], label='Marriages per 1000')\n",
    "plt.bar(selected_years['Year'], selected_years['Divorces_per_1000'], bottom=selected_years['Marriages_per_1000'], label='Divorces per 1000')\n",
    "plt.xlabel('Year')\n",
    "plt.ylabel('Per Capita')\n",
    "plt.title('Number of Marriages and Divorces per Capita (1900, 1950, 2000)')\n",
    "plt.legend()"
   ]
  },
  {
   "cell_type": "markdown",
   "id": "ad609792-458a-46c6-9965-36b26c3b73c7",
   "metadata": {},
   "source": [
    "# Question 8"
   ]
  },
  {
   "cell_type": "code",
   "execution_count": 68,
   "id": "7e45c551-b590-4021-9850-a8571c328ed3",
   "metadata": {
    "tags": []
   },
   "outputs": [
    {
     "data": {
      "text/plain": [
       "Text(0.5, 1.0, 'Deadliest Actors in Hollywood')"
      ]
     },
     "execution_count": 68,
     "metadata": {},
     "output_type": "execute_result"
    },
    {
     "data": {
      "image/png": "[encoded data removed]",
      "text/plain": [
       "<Figure size 640x480 with 1 Axes>"
      ]
     },
     "metadata": {},
     "output_type": "display_data"
    }
   ],
   "source": [
    "actors = pd.read_csv('actor_kill_counts.csv')\n",
    "actors = actors.sort_values(by='Count', ascending=True)\n",
    "plt.barh(actors['Actor'], actors['Count'])\n",
    "plt.xlabel('Kill Count')\n",
    "plt.ylabel('Actor')\n",
    "plt.title('Deadliest Actors in Hollywood')\n"
   ]
  },
  {
   "cell_type": "markdown",
   "id": "c277cdbe-d401-4012-940d-a85cfb0e7e0e",
   "metadata": {},
   "source": [
    "# Question 9"
   ]
  },
  {
   "cell_type": "code",
   "execution_count": 79,
   "id": "8b65b7c6-ce80-493d-a477-b18899528bb3",
   "metadata": {
    "tags": []
   },
   "outputs": [
    {
     "data": {
      "text/plain": [
       "Text(0.5, 1.0, 'Fraction of Roman Emperors Assassinated')"
      ]
     },
     "execution_count": 79,
     "metadata": {},
     "output_type": "execute_result"
    },
    {
     "data": {
      "image/png": "[encoded data removed]",
      "text/plain": [
       "<Figure size 640x480 with 1 Axes>"
      ]
     },
     "metadata": {},
     "output_type": "display_data"
    }
   ],
   "source": [
    "emperor = pd.read_csv('roman-emperor-reigns.csv')\n",
    "assassinated_count = emperor['Cause_of_Death'].value_counts().get('Assassinated')\n",
    "other_count = len(emperor) - assassinated_count\n",
    "plt.pie([assassinated_count, other_count], labels=['Assassinated', 'Other'])\n",
    "plt.title('Fraction of Roman Emperors Assassinated')"
   ]
  },
  {
   "cell_type": "markdown",
   "id": "4d501d4c-e8fb-4e50-bc29-8f9f031f97fb",
   "metadata": {},
   "source": [
    "# Question 10"
   ]
  },
  {
   "cell_type": "code",
   "execution_count": 89,
   "id": "a7c3ea80-4f53-41da-8e6a-c7b4363c9aa6",
   "metadata": {
    "tags": []
   },
   "outputs": [
    {
     "data": {
      "text/plain": [
       "Text(0.5, 1.0, 'Relationship between Arcade Revenue and CS Doctorates (2000-2009)')"
      ]
     },
     "execution_count": 89,
     "metadata": {},
     "output_type": "execute_result"
    },
    {
     "data": {
      "image/png": "[encoded data removed]",
      "text/plain": [
       "<Figure size 640x480 with 1 Axes>"
      ]
     },
     "metadata": {},
     "output_type": "display_data"
    }
   ],
   "source": [
    "arcade = pd.read_csv('arcade-revenue-vs-cs-doctorates.csv')\n",
    "scatter = plt.scatter(arcade['Total Arcade Revenue (billions)'], arcade['Computer Science Doctorates Awarded (US)'], c=arcade['Year'], cmap='viridis', edgecolors='black', s=100)\n",
    "plt.xlabel('Total Arcade Revenue (billions)')\n",
    "plt.ylabel('Computer Science Doctorates Awarded (US)')\n",
    "plt.title('Relationship between Arcade Revenue and CS Doctorates (2000-2009)')"
   ]
  }
 ],
 "metadata": {
  "kernelspec": {
   "display_name": "Python 3 (ipykernel)",
   "language": "python",
   "name": "python3"
  },
  "language_info": {
   "codemirror_mode": {
    "name": "ipython",
    "version": 3
   },
   "file_extension": ".py",
   "mimetype": "text/x-python",
   "name": "python",
   "nbconvert_exporter": "python",
   "pygments_lexer": "ipython3",
   "version": "3.11.4"
  }
 },
 "nbformat": 4,
 "nbformat_minor": 5
}
